{
 "metadata": {
  "name": "",
  "signature": "sha256:6f0c3efb32b5460ae83826d6478d9ba7d07b00246991ba55db6e683ede631165"
 },
 "nbformat": 3,
 "nbformat_minor": 0,
 "worksheets": [
  {
   "cells": [
    {
     "cell_type": "code",
     "collapsed": false,
     "input": [
      "import os\n",
      "import pandas\n",
      "import shutil\n",
      "\n",
      "    BASE_SRC = '/home/csheth/Documents/Work/Arunachal_Pradesh/FROG_Project/2014_data/Images/General_Collection/'\n",
      "    BASE_DEST = '/home/csheth/Documents/Work/Arunachal_Pradesh/FROG_Project/Species_delineate/genus_images'\n",
      "\n",
      "try:\n",
      "    os.makedirs(BASE_DEST)\n",
      "except Exception, e:\n",
      "    pass\n",
      "\n",
      "d = pandas.read_csv('/home/csheth/Documents/Work/Arunachal_Pradesh/FROG_Project/Species_delineate/species-terraindat.csv')\n",
      "d = d[['IISER Cata', 'Genus']]\n",
      "d['Genus Species'] = d['Genus']\n",
      "d['Genus'] = d['Genus'].apply(lambda x: x.split(' ')[0])\n",
      "dg = d.groupby(['Genus'])\n",
      "for genus, df in dg:\n",
      "    genus_path = os.path.join(BASE_DEST, genus)\n",
      "    try:\n",
      "        os.makedirs(genus_path)\n",
      "    except Exception, e:\n",
      "        pass\n",
      "    \n",
      "    folders = df['IISER Cata'].unique()\n",
      "    \n",
      "    print \"Processing genus : %s\" % genus\n",
      "    for folder in folders:\n",
      "        src = os.path.join(BASE_SRC, str(folder))\n",
      "        dst = os.path.join(genus_path, str(folder))\n",
      "        print src, genus_path\n",
      "        try:\n",
      "            shutil.copytree(src, dst)\n",
      "        except:\n",
      "            pass       \n",
      "        \n",
      "    "
     ],
     "language": "python",
     "metadata": {},
     "outputs": [
      {
       "output_type": "stream",
       "stream": "stdout",
       "text": [
        "Processing genus : Amolops\n",
        "/home/csheth/Documents/Work/Arunachal_Pradesh/FROG_Project/2014_data/Images/General_Collection/537 /home/csheth/Documents/Work/Arunachal_Pradesh/FROG_Project/Species_delineate/genus_images/Amolops\n",
        "/home/csheth/Documents/Work/Arunachal_Pradesh/FROG_Project/2014_data/Images/General_Collection/551 /home/csheth/Documents/Work/Arunachal_Pradesh/FROG_Project/Species_delineate/genus_images/Amolops\n",
        "/home/csheth/Documents/Work/Arunachal_Pradesh/FROG_Project/2014_data/Images/General_Collection/552"
       ]
      },
      {
       "output_type": "stream",
       "stream": "stdout",
       "text": [
        " /home/csheth/Documents/Work/Arunachal_Pradesh/FROG_Project/Species_delineate/genus_images/Amolops\n",
        "/home/csheth/Documents/Work/Arunachal_Pradesh/FROG_Project/2014_data/Images/General_Collection/553"
       ]
      },
      {
       "output_type": "stream",
       "stream": "stdout",
       "text": [
        " /home/csheth/Documents/Work/Arunachal_Pradesh/FROG_Project/Species_delineate/genus_images/Amolops\n",
        "/home/csheth/Documents/Work/Arunachal_Pradesh/FROG_Project/2014_data/Images/General_Collection/554"
       ]
      },
      {
       "output_type": "stream",
       "stream": "stdout",
       "text": [
        " /home/csheth/Documents/Work/Arunachal_Pradesh/FROG_Project/Species_delineate/genus_images/Amolops\n",
        "/home/csheth/Documents/Work/Arunachal_Pradesh/FROG_Project/2014_data/Images/General_Collection/555"
       ]
      },
      {
       "output_type": "stream",
       "stream": "stdout",
       "text": [
        " /home/csheth/Documents/Work/Arunachal_Pradesh/FROG_Project/Species_delineate/genus_images/Amolops\n",
        "/home/csheth/Documents/Work/Arunachal_Pradesh/FROG_Project/2014_data/Images/General_Collection/556"
       ]
      },
      {
       "output_type": "stream",
       "stream": "stdout",
       "text": [
        " /home/csheth/Documents/Work/Arunachal_Pradesh/FROG_Project/Species_delineate/genus_images/Amolops\n",
        "/home/csheth/Documents/Work/Arunachal_Pradesh/FROG_Project/2014_data/Images/General_Collection/557"
       ]
      },
      {
       "output_type": "stream",
       "stream": "stdout",
       "text": [
        " /home/csheth/Documents/Work/Arunachal_Pradesh/FROG_Project/Species_delineate/genus_images/Amolops\n",
        "/home/csheth/Documents/Work/Arunachal_Pradesh/FROG_Project/2014_data/Images/General_Collection/558"
       ]
      },
      {
       "output_type": "stream",
       "stream": "stdout",
       "text": [
        " /home/csheth/Documents/Work/Arunachal_Pradesh/FROG_Project/Species_delineate/genus_images/Amolops\n",
        "/home/csheth/Documents/Work/Arunachal_Pradesh/FROG_Project/2014_data/Images/General_Collection/559"
       ]
      },
      {
       "output_type": "stream",
       "stream": "stdout",
       "text": [
        " /home/csheth/Documents/Work/Arunachal_Pradesh/FROG_Project/Species_delineate/genus_images/Amolops\n",
        "/home/csheth/Documents/Work/Arunachal_Pradesh/FROG_Project/2014_data/Images/General_Collection/561"
       ]
      },
      {
       "output_type": "stream",
       "stream": "stdout",
       "text": [
        " /home/csheth/Documents/Work/Arunachal_Pradesh/FROG_Project/Species_delineate/genus_images/Amolops\n",
        "/home/csheth/Documents/Work/Arunachal_Pradesh/FROG_Project/2014_data/Images/General_Collection/563"
       ]
      },
      {
       "output_type": "stream",
       "stream": "stdout",
       "text": [
        " /home/csheth/Documents/Work/Arunachal_Pradesh/FROG_Project/Species_delineate/genus_images/Amolops\n",
        "/home/csheth/Documents/Work/Arunachal_Pradesh/FROG_Project/2014_data/Images/General_Collection/564"
       ]
      },
      {
       "output_type": "stream",
       "stream": "stdout",
       "text": [
        " /home/csheth/Documents/Work/Arunachal_Pradesh/FROG_Project/Species_delineate/genus_images/Amolops\n",
        "/home/csheth/Documents/Work/Arunachal_Pradesh/FROG_Project/2014_data/Images/General_Collection/614"
       ]
      },
      {
       "output_type": "stream",
       "stream": "stdout",
       "text": [
        " /home/csheth/Documents/Work/Arunachal_Pradesh/FROG_Project/Species_delineate/genus_images/Amolops\n",
        "/home/csheth/Documents/Work/Arunachal_Pradesh/FROG_Project/2014_data/Images/General_Collection/615"
       ]
      },
      {
       "output_type": "stream",
       "stream": "stdout",
       "text": [
        " /home/csheth/Documents/Work/Arunachal_Pradesh/FROG_Project/Species_delineate/genus_images/Amolops\n",
        "/home/csheth/Documents/Work/Arunachal_Pradesh/FROG_Project/2014_data/Images/General_Collection/616"
       ]
      },
      {
       "output_type": "stream",
       "stream": "stdout",
       "text": [
        " /home/csheth/Documents/Work/Arunachal_Pradesh/FROG_Project/Species_delineate/genus_images/Amolops\n",
        "/home/csheth/Documents/Work/Arunachal_Pradesh/FROG_Project/2014_data/Images/General_Collection/619"
       ]
      },
      {
       "output_type": "stream",
       "stream": "stdout",
       "text": [
        " /home/csheth/Documents/Work/Arunachal_Pradesh/FROG_Project/Species_delineate/genus_images/Amolops\n",
        "/home/csheth/Documents/Work/Arunachal_Pradesh/FROG_Project/2014_data/Images/General_Collection/620"
       ]
      },
      {
       "output_type": "stream",
       "stream": "stdout",
       "text": [
        " /home/csheth/Documents/Work/Arunachal_Pradesh/FROG_Project/Species_delineate/genus_images/Amolops\n",
        "/home/csheth/Documents/Work/Arunachal_Pradesh/FROG_Project/2014_data/Images/General_Collection/621"
       ]
      },
      {
       "output_type": "stream",
       "stream": "stdout",
       "text": [
        " /home/csheth/Documents/Work/Arunachal_Pradesh/FROG_Project/Species_delineate/genus_images/Amolops\n",
        "/home/csheth/Documents/Work/Arunachal_Pradesh/FROG_Project/2014_data/Images/General_Collection/628"
       ]
      },
      {
       "output_type": "stream",
       "stream": "stdout",
       "text": [
        " /home/csheth/Documents/Work/Arunachal_Pradesh/FROG_Project/Species_delineate/genus_images/Amolops\n",
        "/home/csheth/Documents/Work/Arunachal_Pradesh/FROG_Project/2014_data/Images/General_Collection/629"
       ]
      },
      {
       "output_type": "stream",
       "stream": "stdout",
       "text": [
        " /home/csheth/Documents/Work/Arunachal_Pradesh/FROG_Project/Species_delineate/genus_images/Amolops\n",
        "/home/csheth/Documents/Work/Arunachal_Pradesh/FROG_Project/2014_data/Images/General_Collection/631"
       ]
      },
      {
       "output_type": "stream",
       "stream": "stdout",
       "text": [
        " /home/csheth/Documents/Work/Arunachal_Pradesh/FROG_Project/Species_delineate/genus_images/Amolops\n",
        "/home/csheth/Documents/Work/Arunachal_Pradesh/FROG_Project/2014_data/Images/General_Collection/632"
       ]
      },
      {
       "output_type": "stream",
       "stream": "stdout",
       "text": [
        " /home/csheth/Documents/Work/Arunachal_Pradesh/FROG_Project/Species_delineate/genus_images/Amolops\n",
        "/home/csheth/Documents/Work/Arunachal_Pradesh/FROG_Project/2014_data/Images/General_Collection/633"
       ]
      },
      {
       "output_type": "stream",
       "stream": "stdout",
       "text": [
        " /home/csheth/Documents/Work/Arunachal_Pradesh/FROG_Project/Species_delineate/genus_images/Amolops\n",
        "/home/csheth/Documents/Work/Arunachal_Pradesh/FROG_Project/2014_data/Images/General_Collection/634"
       ]
      },
      {
       "output_type": "stream",
       "stream": "stdout",
       "text": [
        " /home/csheth/Documents/Work/Arunachal_Pradesh/FROG_Project/Species_delineate/genus_images/Amolops\n",
        "/home/csheth/Documents/Work/Arunachal_Pradesh/FROG_Project/2014_data/Images/General_Collection/635"
       ]
      },
      {
       "output_type": "stream",
       "stream": "stdout",
       "text": [
        " /home/csheth/Documents/Work/Arunachal_Pradesh/FROG_Project/Species_delineate/genus_images/Amolops\n",
        "/home/csheth/Documents/Work/Arunachal_Pradesh/FROG_Project/2014_data/Images/General_Collection/636"
       ]
      },
      {
       "output_type": "stream",
       "stream": "stdout",
       "text": [
        " /home/csheth/Documents/Work/Arunachal_Pradesh/FROG_Project/Species_delineate/genus_images/Amolops\n",
        "/home/csheth/Documents/Work/Arunachal_Pradesh/FROG_Project/2014_data/Images/General_Collection/637"
       ]
      },
      {
       "output_type": "stream",
       "stream": "stdout",
       "text": [
        " /home/csheth/Documents/Work/Arunachal_Pradesh/FROG_Project/Species_delineate/genus_images/Amolops\n",
        "/home/csheth/Documents/Work/Arunachal_Pradesh/FROG_Project/2014_data/Images/General_Collection/638"
       ]
      },
      {
       "output_type": "stream",
       "stream": "stdout",
       "text": [
        " /home/csheth/Documents/Work/Arunachal_Pradesh/FROG_Project/Species_delineate/genus_images/Amolops\n",
        "/home/csheth/Documents/Work/Arunachal_Pradesh/FROG_Project/2014_data/Images/General_Collection/639"
       ]
      },
      {
       "output_type": "stream",
       "stream": "stdout",
       "text": [
        " /home/csheth/Documents/Work/Arunachal_Pradesh/FROG_Project/Species_delineate/genus_images/Amolops\n",
        "/home/csheth/Documents/Work/Arunachal_Pradesh/FROG_Project/2014_data/Images/General_Collection/640"
       ]
      },
      {
       "output_type": "stream",
       "stream": "stdout",
       "text": [
        " /home/csheth/Documents/Work/Arunachal_Pradesh/FROG_Project/Species_delineate/genus_images/Amolops\n",
        "/home/csheth/Documents/Work/Arunachal_Pradesh/FROG_Project/2014_data/Images/General_Collection/641"
       ]
      },
      {
       "output_type": "stream",
       "stream": "stdout",
       "text": [
        " /home/csheth/Documents/Work/Arunachal_Pradesh/FROG_Project/Species_delineate/genus_images/Amolops\n",
        "/home/csheth/Documents/Work/Arunachal_Pradesh/FROG_Project/2014_data/Images/General_Collection/642"
       ]
      },
      {
       "output_type": "stream",
       "stream": "stdout",
       "text": [
        " /home/csheth/Documents/Work/Arunachal_Pradesh/FROG_Project/Species_delineate/genus_images/Amolops\n",
        "/home/csheth/Documents/Work/Arunachal_Pradesh/FROG_Project/2014_data/Images/General_Collection/643"
       ]
      },
      {
       "output_type": "stream",
       "stream": "stdout",
       "text": [
        " /home/csheth/Documents/Work/Arunachal_Pradesh/FROG_Project/Species_delineate/genus_images/Amolops\n",
        "/home/csheth/Documents/Work/Arunachal_Pradesh/FROG_Project/2014_data/Images/General_Collection/644 /home/csheth/Documents/Work/Arunachal_Pradesh/FROG_Project/Species_delineate/genus_images/Amolops\n",
        "/home/csheth/Documents/Work/Arunachal_Pradesh/FROG_Project/2014_data/Images/General_Collection/645"
       ]
      },
      {
       "output_type": "stream",
       "stream": "stdout",
       "text": [
        " /home/csheth/Documents/Work/Arunachal_Pradesh/FROG_Project/Species_delineate/genus_images/Amolops\n",
        "/home/csheth/Documents/Work/Arunachal_Pradesh/FROG_Project/2014_data/Images/General_Collection/647"
       ]
      },
      {
       "output_type": "stream",
       "stream": "stdout",
       "text": [
        " /home/csheth/Documents/Work/Arunachal_Pradesh/FROG_Project/Species_delineate/genus_images/Amolops\n",
        "/home/csheth/Documents/Work/Arunachal_Pradesh/FROG_Project/2014_data/Images/General_Collection/648"
       ]
      },
      {
       "output_type": "stream",
       "stream": "stdout",
       "text": [
        " /home/csheth/Documents/Work/Arunachal_Pradesh/FROG_Project/Species_delineate/genus_images/Amolops\n",
        "/home/csheth/Documents/Work/Arunachal_Pradesh/FROG_Project/2014_data/Images/General_Collection/649"
       ]
      },
      {
       "output_type": "stream",
       "stream": "stdout",
       "text": [
        " /home/csheth/Documents/Work/Arunachal_Pradesh/FROG_Project/Species_delineate/genus_images/Amolops\n",
        "/home/csheth/Documents/Work/Arunachal_Pradesh/FROG_Project/2014_data/Images/General_Collection/650"
       ]
      },
      {
       "output_type": "stream",
       "stream": "stdout",
       "text": [
        " /home/csheth/Documents/Work/Arunachal_Pradesh/FROG_Project/Species_delineate/genus_images/Amolops\n",
        "/home/csheth/Documents/Work/Arunachal_Pradesh/FROG_Project/2014_data/Images/General_Collection/651"
       ]
      },
      {
       "output_type": "stream",
       "stream": "stdout",
       "text": [
        " /home/csheth/Documents/Work/Arunachal_Pradesh/FROG_Project/Species_delineate/genus_images/Amolops\n",
        "/home/csheth/Documents/Work/Arunachal_Pradesh/FROG_Project/2014_data/Images/General_Collection/652"
       ]
      },
      {
       "output_type": "stream",
       "stream": "stdout",
       "text": [
        " /home/csheth/Documents/Work/Arunachal_Pradesh/FROG_Project/Species_delineate/genus_images/Amolops\n",
        "/home/csheth/Documents/Work/Arunachal_Pradesh/FROG_Project/2014_data/Images/General_Collection/653"
       ]
      },
      {
       "output_type": "stream",
       "stream": "stdout",
       "text": [
        " /home/csheth/Documents/Work/Arunachal_Pradesh/FROG_Project/Species_delineate/genus_images/Amolops\n",
        "/home/csheth/Documents/Work/Arunachal_Pradesh/FROG_Project/2014_data/Images/General_Collection/654"
       ]
      },
      {
       "output_type": "stream",
       "stream": "stdout",
       "text": [
        " /home/csheth/Documents/Work/Arunachal_Pradesh/FROG_Project/Species_delineate/genus_images/Amolops\n",
        "/home/csheth/Documents/Work/Arunachal_Pradesh/FROG_Project/2014_data/Images/General_Collection/658"
       ]
      },
      {
       "output_type": "stream",
       "stream": "stdout",
       "text": [
        " /home/csheth/Documents/Work/Arunachal_Pradesh/FROG_Project/Species_delineate/genus_images/Amolops\n",
        "/home/csheth/Documents/Work/Arunachal_Pradesh/FROG_Project/2014_data/Images/General_Collection/659"
       ]
      },
      {
       "output_type": "stream",
       "stream": "stdout",
       "text": [
        " /home/csheth/Documents/Work/Arunachal_Pradesh/FROG_Project/Species_delineate/genus_images/Amolops\n",
        "/home/csheth/Documents/Work/Arunachal_Pradesh/FROG_Project/2014_data/Images/General_Collection/670"
       ]
      },
      {
       "output_type": "stream",
       "stream": "stdout",
       "text": [
        " /home/csheth/Documents/Work/Arunachal_Pradesh/FROG_Project/Species_delineate/genus_images/Amolops\n",
        "/home/csheth/Documents/Work/Arunachal_Pradesh/FROG_Project/2014_data/Images/General_Collection/671"
       ]
      },
      {
       "output_type": "stream",
       "stream": "stdout",
       "text": [
        " /home/csheth/Documents/Work/Arunachal_Pradesh/FROG_Project/Species_delineate/genus_images/Amolops\n",
        "/home/csheth/Documents/Work/Arunachal_Pradesh/FROG_Project/2014_data/Images/General_Collection/672"
       ]
      },
      {
       "output_type": "stream",
       "stream": "stdout",
       "text": [
        " /home/csheth/Documents/Work/Arunachal_Pradesh/FROG_Project/Species_delineate/genus_images/Amolops\n",
        "/home/csheth/Documents/Work/Arunachal_Pradesh/FROG_Project/2014_data/Images/General_Collection/678"
       ]
      },
      {
       "output_type": "stream",
       "stream": "stdout",
       "text": [
        " /home/csheth/Documents/Work/Arunachal_Pradesh/FROG_Project/Species_delineate/genus_images/Amolops\n",
        "/home/csheth/Documents/Work/Arunachal_Pradesh/FROG_Project/2014_data/Images/General_Collection/679"
       ]
      },
      {
       "output_type": "stream",
       "stream": "stdout",
       "text": [
        " /home/csheth/Documents/Work/Arunachal_Pradesh/FROG_Project/Species_delineate/genus_images/Amolops\n",
        "/home/csheth/Documents/Work/Arunachal_Pradesh/FROG_Project/2014_data/Images/General_Collection/681"
       ]
      },
      {
       "output_type": "stream",
       "stream": "stdout",
       "text": [
        " /home/csheth/Documents/Work/Arunachal_Pradesh/FROG_Project/Species_delineate/genus_images/Amolops\n",
        "/home/csheth/Documents/Work/Arunachal_Pradesh/FROG_Project/2014_data/Images/General_Collection/682"
       ]
      },
      {
       "output_type": "stream",
       "stream": "stdout",
       "text": [
        " /home/csheth/Documents/Work/Arunachal_Pradesh/FROG_Project/Species_delineate/genus_images/Amolops\n",
        "/home/csheth/Documents/Work/Arunachal_Pradesh/FROG_Project/2014_data/Images/General_Collection/683"
       ]
      },
      {
       "output_type": "stream",
       "stream": "stdout",
       "text": [
        " /home/csheth/Documents/Work/Arunachal_Pradesh/FROG_Project/Species_delineate/genus_images/Amolops\n",
        "/home/csheth/Documents/Work/Arunachal_Pradesh/FROG_Project/2014_data/Images/General_Collection/684"
       ]
      },
      {
       "output_type": "stream",
       "stream": "stdout",
       "text": [
        " /home/csheth/Documents/Work/Arunachal_Pradesh/FROG_Project/Species_delineate/genus_images/Amolops\n",
        "/home/csheth/Documents/Work/Arunachal_Pradesh/FROG_Project/2014_data/Images/General_Collection/685"
       ]
      },
      {
       "output_type": "stream",
       "stream": "stdout",
       "text": [
        " /home/csheth/Documents/Work/Arunachal_Pradesh/FROG_Project/Species_delineate/genus_images/Amolops\n",
        "/home/csheth/Documents/Work/Arunachal_Pradesh/FROG_Project/2014_data/Images/General_Collection/686"
       ]
      },
      {
       "output_type": "stream",
       "stream": "stdout",
       "text": [
        " /home/csheth/Documents/Work/Arunachal_Pradesh/FROG_Project/Species_delineate/genus_images/Amolops\n",
        "/home/csheth/Documents/Work/Arunachal_Pradesh/FROG_Project/2014_data/Images/General_Collection/687"
       ]
      },
      {
       "output_type": "stream",
       "stream": "stdout",
       "text": [
        " /home/csheth/Documents/Work/Arunachal_Pradesh/FROG_Project/Species_delineate/genus_images/Amolops\n",
        "/home/csheth/Documents/Work/Arunachal_Pradesh/FROG_Project/2014_data/Images/General_Collection/688"
       ]
      },
      {
       "output_type": "stream",
       "stream": "stdout",
       "text": [
        " /home/csheth/Documents/Work/Arunachal_Pradesh/FROG_Project/Species_delineate/genus_images/Amolops\n",
        "/home/csheth/Documents/Work/Arunachal_Pradesh/FROG_Project/2014_data/Images/General_Collection/689"
       ]
      },
      {
       "output_type": "stream",
       "stream": "stdout",
       "text": [
        " /home/csheth/Documents/Work/Arunachal_Pradesh/FROG_Project/Species_delineate/genus_images/Amolops\n",
        "/home/csheth/Documents/Work/Arunachal_Pradesh/FROG_Project/2014_data/Images/General_Collection/697"
       ]
      },
      {
       "output_type": "stream",
       "stream": "stdout",
       "text": [
        " /home/csheth/Documents/Work/Arunachal_Pradesh/FROG_Project/Species_delineate/genus_images/Amolops\n",
        "/home/csheth/Documents/Work/Arunachal_Pradesh/FROG_Project/2014_data/Images/General_Collection/701"
       ]
      },
      {
       "output_type": "stream",
       "stream": "stdout",
       "text": [
        " /home/csheth/Documents/Work/Arunachal_Pradesh/FROG_Project/Species_delineate/genus_images/Amolops\n",
        "/home/csheth/Documents/Work/Arunachal_Pradesh/FROG_Project/2014_data/Images/General_Collection/703"
       ]
      },
      {
       "output_type": "stream",
       "stream": "stdout",
       "text": [
        " /home/csheth/Documents/Work/Arunachal_Pradesh/FROG_Project/Species_delineate/genus_images/Amolops\n",
        "/home/csheth/Documents/Work/Arunachal_Pradesh/FROG_Project/2014_data/Images/General_Collection/704"
       ]
      },
      {
       "output_type": "stream",
       "stream": "stdout",
       "text": [
        " /home/csheth/Documents/Work/Arunachal_Pradesh/FROG_Project/Species_delineate/genus_images/Amolops\n",
        "/home/csheth/Documents/Work/Arunachal_Pradesh/FROG_Project/2014_data/Images/General_Collection/705"
       ]
      },
      {
       "output_type": "stream",
       "stream": "stdout",
       "text": [
        " /home/csheth/Documents/Work/Arunachal_Pradesh/FROG_Project/Species_delineate/genus_images/Amolops\n",
        "/home/csheth/Documents/Work/Arunachal_Pradesh/FROG_Project/2014_data/Images/General_Collection/706"
       ]
      },
      {
       "output_type": "stream",
       "stream": "stdout",
       "text": [
        " /home/csheth/Documents/Work/Arunachal_Pradesh/FROG_Project/Species_delineate/genus_images/Amolops\n",
        "/home/csheth/Documents/Work/Arunachal_Pradesh/FROG_Project/2014_data/Images/General_Collection/713"
       ]
      },
      {
       "output_type": "stream",
       "stream": "stdout",
       "text": [
        " /home/csheth/Documents/Work/Arunachal_Pradesh/FROG_Project/Species_delineate/genus_images/Amolops\n",
        "/home/csheth/Documents/Work/Arunachal_Pradesh/FROG_Project/2014_data/Images/General_Collection/718"
       ]
      },
      {
       "output_type": "stream",
       "stream": "stdout",
       "text": [
        " /home/csheth/Documents/Work/Arunachal_Pradesh/FROG_Project/Species_delineate/genus_images/Amolops\n",
        "/home/csheth/Documents/Work/Arunachal_Pradesh/FROG_Project/2014_data/Images/General_Collection/719"
       ]
      },
      {
       "output_type": "stream",
       "stream": "stdout",
       "text": [
        " /home/csheth/Documents/Work/Arunachal_Pradesh/FROG_Project/Species_delineate/genus_images/Amolops\n",
        "/home/csheth/Documents/Work/Arunachal_Pradesh/FROG_Project/2014_data/Images/General_Collection/721"
       ]
      },
      {
       "output_type": "stream",
       "stream": "stdout",
       "text": [
        " /home/csheth/Documents/Work/Arunachal_Pradesh/FROG_Project/Species_delineate/genus_images/Amolops\n",
        "/home/csheth/Documents/Work/Arunachal_Pradesh/FROG_Project/2014_data/Images/General_Collection/729"
       ]
      },
      {
       "output_type": "stream",
       "stream": "stdout",
       "text": [
        " /home/csheth/Documents/Work/Arunachal_Pradesh/FROG_Project/Species_delineate/genus_images/Amolops\n",
        "/home/csheth/Documents/Work/Arunachal_Pradesh/FROG_Project/2014_data/Images/General_Collection/734"
       ]
      },
      {
       "output_type": "stream",
       "stream": "stdout",
       "text": [
        " /home/csheth/Documents/Work/Arunachal_Pradesh/FROG_Project/Species_delineate/genus_images/Amolops\n",
        "/home/csheth/Documents/Work/Arunachal_Pradesh/FROG_Project/2014_data/Images/General_Collection/745"
       ]
      },
      {
       "output_type": "stream",
       "stream": "stdout",
       "text": [
        " /home/csheth/Documents/Work/Arunachal_Pradesh/FROG_Project/Species_delineate/genus_images/Amolops\n",
        "/home/csheth/Documents/Work/Arunachal_Pradesh/FROG_Project/2014_data/Images/General_Collection/751"
       ]
      },
      {
       "output_type": "stream",
       "stream": "stdout",
       "text": [
        " /home/csheth/Documents/Work/Arunachal_Pradesh/FROG_Project/Species_delineate/genus_images/Amolops\n",
        "/home/csheth/Documents/Work/Arunachal_Pradesh/FROG_Project/2014_data/Images/General_Collection/752"
       ]
      },
      {
       "output_type": "stream",
       "stream": "stdout",
       "text": [
        " /home/csheth/Documents/Work/Arunachal_Pradesh/FROG_Project/Species_delineate/genus_images/Amolops\n",
        "/home/csheth/Documents/Work/Arunachal_Pradesh/FROG_Project/2014_data/Images/General_Collection/756"
       ]
      },
      {
       "output_type": "stream",
       "stream": "stdout",
       "text": [
        " /home/csheth/Documents/Work/Arunachal_Pradesh/FROG_Project/Species_delineate/genus_images/Amolops\n",
        "/home/csheth/Documents/Work/Arunachal_Pradesh/FROG_Project/2014_data/Images/General_Collection/767"
       ]
      },
      {
       "output_type": "stream",
       "stream": "stdout",
       "text": [
        " /home/csheth/Documents/Work/Arunachal_Pradesh/FROG_Project/Species_delineate/genus_images/Amolops\n",
        "/home/csheth/Documents/Work/Arunachal_Pradesh/FROG_Project/2014_data/Images/General_Collection/768"
       ]
      },
      {
       "output_type": "stream",
       "stream": "stdout",
       "text": [
        " /home/csheth/Documents/Work/Arunachal_Pradesh/FROG_Project/Species_delineate/genus_images/Amolops\n",
        "/home/csheth/Documents/Work/Arunachal_Pradesh/FROG_Project/2014_data/Images/General_Collection/769"
       ]
      },
      {
       "output_type": "stream",
       "stream": "stdout",
       "text": [
        " /home/csheth/Documents/Work/Arunachal_Pradesh/FROG_Project/Species_delineate/genus_images/Amolops\n",
        "/home/csheth/Documents/Work/Arunachal_Pradesh/FROG_Project/2014_data/Images/General_Collection/772"
       ]
      },
      {
       "output_type": "stream",
       "stream": "stdout",
       "text": [
        " /home/csheth/Documents/Work/Arunachal_Pradesh/FROG_Project/Species_delineate/genus_images/Amolops\n",
        "/home/csheth/Documents/Work/Arunachal_Pradesh/FROG_Project/2014_data/Images/General_Collection/773"
       ]
      },
      {
       "output_type": "stream",
       "stream": "stdout",
       "text": [
        " /home/csheth/Documents/Work/Arunachal_Pradesh/FROG_Project/Species_delineate/genus_images/Amolops\n",
        "/home/csheth/Documents/Work/Arunachal_Pradesh/FROG_Project/2014_data/Images/General_Collection/777"
       ]
      },
      {
       "output_type": "stream",
       "stream": "stdout",
       "text": [
        " /home/csheth/Documents/Work/Arunachal_Pradesh/FROG_Project/Species_delineate/genus_images/Amolops\n",
        "/home/csheth/Documents/Work/Arunachal_Pradesh/FROG_Project/2014_data/Images/General_Collection/778"
       ]
      },
      {
       "output_type": "stream",
       "stream": "stdout",
       "text": [
        " /home/csheth/Documents/Work/Arunachal_Pradesh/FROG_Project/Species_delineate/genus_images/Amolops\n",
        "/home/csheth/Documents/Work/Arunachal_Pradesh/FROG_Project/2014_data/Images/General_Collection/781"
       ]
      },
      {
       "output_type": "stream",
       "stream": "stdout",
       "text": [
        " /home/csheth/Documents/Work/Arunachal_Pradesh/FROG_Project/Species_delineate/genus_images/Amolops\n",
        "/home/csheth/Documents/Work/Arunachal_Pradesh/FROG_Project/2014_data/Images/General_Collection/782"
       ]
      },
      {
       "output_type": "stream",
       "stream": "stdout",
       "text": [
        " /home/csheth/Documents/Work/Arunachal_Pradesh/FROG_Project/Species_delineate/genus_images/Amolops\n",
        "/home/csheth/Documents/Work/Arunachal_Pradesh/FROG_Project/2014_data/Images/General_Collection/783"
       ]
      },
      {
       "output_type": "stream",
       "stream": "stdout",
       "text": [
        " /home/csheth/Documents/Work/Arunachal_Pradesh/FROG_Project/Species_delineate/genus_images/Amolops\n",
        "/home/csheth/Documents/Work/Arunachal_Pradesh/FROG_Project/2014_data/Images/General_Collection/789"
       ]
      },
      {
       "output_type": "stream",
       "stream": "stdout",
       "text": [
        " /home/csheth/Documents/Work/Arunachal_Pradesh/FROG_Project/Species_delineate/genus_images/Amolops\n",
        "/home/csheth/Documents/Work/Arunachal_Pradesh/FROG_Project/2014_data/Images/General_Collection/799 /home/csheth/Documents/Work/Arunachal_Pradesh/FROG_Project/Species_delineate/genus_images/Amolops\n",
        "/home/csheth/Documents/Work/Arunachal_Pradesh/FROG_Project/2014_data/Images/General_Collection/800 /home/csheth/Documents/Work/Arunachal_Pradesh/FROG_Project/Species_delineate/genus_images/Amolops\n",
        "/home/csheth/Documents/Work/Arunachal_Pradesh/FROG_Project/2014_data/Images/General_Collection/801 /home/csheth/Documents/Work/Arunachal_Pradesh/FROG_Project/Species_delineate/genus_images/Amolops\n",
        "/home/csheth/Documents/Work/Arunachal_Pradesh/FROG_Project/2014_data/Images/General_Collection/802 /home/csheth/Documents/Work/Arunachal_Pradesh/FROG_Project/Species_delineate/genus_images/Amolops\n",
        "/home/csheth/Documents/Work/Arunachal_Pradesh/FROG_Project/2014_data/Images/General_Collection/816 /home/csheth/Documents/Work/Arunachal_Pradesh/FROG_Project/Species_delineate/genus_images/Amolops\n",
        "/home/csheth/Documents/Work/Arunachal_Pradesh/FROG_Project/2014_data/Images/General_Collection/828"
       ]
      },
      {
       "output_type": "stream",
       "stream": "stdout",
       "text": [
        " /home/csheth/Documents/Work/Arunachal_Pradesh/FROG_Project/Species_delineate/genus_images/Amolops\n",
        "/home/csheth/Documents/Work/Arunachal_Pradesh/FROG_Project/2014_data/Images/General_Collection/829"
       ]
      },
      {
       "output_type": "stream",
       "stream": "stdout",
       "text": [
        " /home/csheth/Documents/Work/Arunachal_Pradesh/FROG_Project/Species_delineate/genus_images/Amolops\n",
        "/home/csheth/Documents/Work/Arunachal_Pradesh/FROG_Project/2014_data/Images/General_Collection/848"
       ]
      },
      {
       "output_type": "stream",
       "stream": "stdout",
       "text": [
        " /home/csheth/Documents/Work/Arunachal_Pradesh/FROG_Project/Species_delineate/genus_images/Amolops\n",
        "/home/csheth/Documents/Work/Arunachal_Pradesh/FROG_Project/2014_data/Images/General_Collection/865"
       ]
      },
      {
       "output_type": "stream",
       "stream": "stdout",
       "text": [
        " /home/csheth/Documents/Work/Arunachal_Pradesh/FROG_Project/Species_delineate/genus_images/Amolops\n",
        "/home/csheth/Documents/Work/Arunachal_Pradesh/FROG_Project/2014_data/Images/General_Collection/866"
       ]
      },
      {
       "output_type": "stream",
       "stream": "stdout",
       "text": [
        " /home/csheth/Documents/Work/Arunachal_Pradesh/FROG_Project/Species_delineate/genus_images/Amolops\n",
        "/home/csheth/Documents/Work/Arunachal_Pradesh/FROG_Project/2014_data/Images/General_Collection/867"
       ]
      },
      {
       "output_type": "stream",
       "stream": "stdout",
       "text": [
        " /home/csheth/Documents/Work/Arunachal_Pradesh/FROG_Project/Species_delineate/genus_images/Amolops\n",
        "/home/csheth/Documents/Work/Arunachal_Pradesh/FROG_Project/2014_data/Images/General_Collection/868"
       ]
      },
      {
       "output_type": "stream",
       "stream": "stdout",
       "text": [
        " /home/csheth/Documents/Work/Arunachal_Pradesh/FROG_Project/Species_delineate/genus_images/Amolops\n",
        "/home/csheth/Documents/Work/Arunachal_Pradesh/FROG_Project/2014_data/Images/General_Collection/869"
       ]
      },
      {
       "output_type": "stream",
       "stream": "stdout",
       "text": [
        " /home/csheth/Documents/Work/Arunachal_Pradesh/FROG_Project/Species_delineate/genus_images/Amolops\n",
        "/home/csheth/Documents/Work/Arunachal_Pradesh/FROG_Project/2014_data/Images/General_Collection/873"
       ]
      },
      {
       "output_type": "stream",
       "stream": "stdout",
       "text": [
        " /home/csheth/Documents/Work/Arunachal_Pradesh/FROG_Project/Species_delineate/genus_images/Amolops\n",
        "/home/csheth/Documents/Work/Arunachal_Pradesh/FROG_Project/2014_data/Images/General_Collection/884"
       ]
      },
      {
       "output_type": "stream",
       "stream": "stdout",
       "text": [
        " /home/csheth/Documents/Work/Arunachal_Pradesh/FROG_Project/Species_delineate/genus_images/Amolops\n",
        "/home/csheth/Documents/Work/Arunachal_Pradesh/FROG_Project/2014_data/Images/General_Collection/894"
       ]
      },
      {
       "output_type": "stream",
       "stream": "stdout",
       "text": [
        " /home/csheth/Documents/Work/Arunachal_Pradesh/FROG_Project/Species_delineate/genus_images/Amolops\n",
        "/home/csheth/Documents/Work/Arunachal_Pradesh/FROG_Project/2014_data/Images/General_Collection/895"
       ]
      },
      {
       "output_type": "stream",
       "stream": "stdout",
       "text": [
        " /home/csheth/Documents/Work/Arunachal_Pradesh/FROG_Project/Species_delineate/genus_images/Amolops\n",
        "/home/csheth/Documents/Work/Arunachal_Pradesh/FROG_Project/2014_data/Images/General_Collection/896"
       ]
      },
      {
       "output_type": "stream",
       "stream": "stdout",
       "text": [
        " /home/csheth/Documents/Work/Arunachal_Pradesh/FROG_Project/Species_delineate/genus_images/Amolops\n",
        "/home/csheth/Documents/Work/Arunachal_Pradesh/FROG_Project/2014_data/Images/General_Collection/897"
       ]
      },
      {
       "output_type": "stream",
       "stream": "stdout",
       "text": [
        " /home/csheth/Documents/Work/Arunachal_Pradesh/FROG_Project/Species_delineate/genus_images/Amolops\n",
        "/home/csheth/Documents/Work/Arunachal_Pradesh/FROG_Project/2014_data/Images/General_Collection/898"
       ]
      },
      {
       "output_type": "stream",
       "stream": "stdout",
       "text": [
        " /home/csheth/Documents/Work/Arunachal_Pradesh/FROG_Project/Species_delineate/genus_images/Amolops\n",
        "/home/csheth/Documents/Work/Arunachal_Pradesh/FROG_Project/2014_data/Images/General_Collection/918"
       ]
      },
      {
       "output_type": "stream",
       "stream": "stdout",
       "text": [
        " /home/csheth/Documents/Work/Arunachal_Pradesh/FROG_Project/Species_delineate/genus_images/Amolops\n",
        "/home/csheth/Documents/Work/Arunachal_Pradesh/FROG_Project/2014_data/Images/General_Collection/921"
       ]
      },
      {
       "output_type": "stream",
       "stream": "stdout",
       "text": [
        " /home/csheth/Documents/Work/Arunachal_Pradesh/FROG_Project/Species_delineate/genus_images/Amolops\n",
        "/home/csheth/Documents/Work/Arunachal_Pradesh/FROG_Project/2014_data/Images/General_Collection/928"
       ]
      },
      {
       "output_type": "stream",
       "stream": "stdout",
       "text": [
        " /home/csheth/Documents/Work/Arunachal_Pradesh/FROG_Project/Species_delineate/genus_images/Amolops\n",
        "/home/csheth/Documents/Work/Arunachal_Pradesh/FROG_Project/2014_data/Images/General_Collection/929"
       ]
      },
      {
       "output_type": "stream",
       "stream": "stdout",
       "text": [
        " /home/csheth/Documents/Work/Arunachal_Pradesh/FROG_Project/Species_delineate/genus_images/Amolops\n",
        "Processing genus : Duttaphrynus"
       ]
      },
      {
       "output_type": "stream",
       "stream": "stdout",
       "text": [
        "\n",
        "/home/csheth/Documents/Work/Arunachal_Pradesh/FROG_Project/2014_data/Images/General_Collection/507 /home/csheth/Documents/Work/Arunachal_Pradesh/FROG_Project/Species_delineate/genus_images/Duttaphrynus\n",
        "/home/csheth/Documents/Work/Arunachal_Pradesh/FROG_Project/2014_data/Images/General_Collection/508"
       ]
      },
      {
       "output_type": "stream",
       "stream": "stdout",
       "text": [
        " /home/csheth/Documents/Work/Arunachal_Pradesh/FROG_Project/Species_delineate/genus_images/Duttaphrynus\n",
        "/home/csheth/Documents/Work/Arunachal_Pradesh/FROG_Project/2014_data/Images/General_Collection/532"
       ]
      },
      {
       "output_type": "stream",
       "stream": "stdout",
       "text": [
        " /home/csheth/Documents/Work/Arunachal_Pradesh/FROG_Project/Species_delineate/genus_images/Duttaphrynus\n",
        "/home/csheth/Documents/Work/Arunachal_Pradesh/FROG_Project/2014_data/Images/General_Collection/533"
       ]
      },
      {
       "output_type": "stream",
       "stream": "stdout",
       "text": [
        " /home/csheth/Documents/Work/Arunachal_Pradesh/FROG_Project/Species_delineate/genus_images/Duttaphrynus\n",
        "/home/csheth/Documents/Work/Arunachal_Pradesh/FROG_Project/2014_data/Images/General_Collection/534"
       ]
      },
      {
       "output_type": "stream",
       "stream": "stdout",
       "text": [
        " /home/csheth/Documents/Work/Arunachal_Pradesh/FROG_Project/Species_delineate/genus_images/Duttaphrynus\n",
        "/home/csheth/Documents/Work/Arunachal_Pradesh/FROG_Project/2014_data/Images/General_Collection/535"
       ]
      },
      {
       "output_type": "stream",
       "stream": "stdout",
       "text": [
        " /home/csheth/Documents/Work/Arunachal_Pradesh/FROG_Project/Species_delineate/genus_images/Duttaphrynus\n",
        "/home/csheth/Documents/Work/Arunachal_Pradesh/FROG_Project/2014_data/Images/General_Collection/536"
       ]
      },
      {
       "output_type": "stream",
       "stream": "stdout",
       "text": [
        " /home/csheth/Documents/Work/Arunachal_Pradesh/FROG_Project/Species_delineate/genus_images/Duttaphrynus\n",
        "/home/csheth/Documents/Work/Arunachal_Pradesh/FROG_Project/2014_data/Images/General_Collection/711"
       ]
      },
      {
       "output_type": "stream",
       "stream": "stdout",
       "text": [
        " /home/csheth/Documents/Work/Arunachal_Pradesh/FROG_Project/Species_delineate/genus_images/Duttaphrynus\n",
        "/home/csheth/Documents/Work/Arunachal_Pradesh/FROG_Project/2014_data/Images/General_Collection/714"
       ]
      },
      {
       "output_type": "stream",
       "stream": "stdout",
       "text": [
        " /home/csheth/Documents/Work/Arunachal_Pradesh/FROG_Project/Species_delineate/genus_images/Duttaphrynus\n",
        "/home/csheth/Documents/Work/Arunachal_Pradesh/FROG_Project/2014_data/Images/General_Collection/726"
       ]
      },
      {
       "output_type": "stream",
       "stream": "stdout",
       "text": [
        " /home/csheth/Documents/Work/Arunachal_Pradesh/FROG_Project/Species_delineate/genus_images/Duttaphrynus\n",
        "/home/csheth/Documents/Work/Arunachal_Pradesh/FROG_Project/2014_data/Images/General_Collection/733"
       ]
      },
      {
       "output_type": "stream",
       "stream": "stdout",
       "text": [
        " /home/csheth/Documents/Work/Arunachal_Pradesh/FROG_Project/Species_delineate/genus_images/Duttaphrynus\n",
        "/home/csheth/Documents/Work/Arunachal_Pradesh/FROG_Project/2014_data/Images/General_Collection/736"
       ]
      },
      {
       "output_type": "stream",
       "stream": "stdout",
       "text": [
        " /home/csheth/Documents/Work/Arunachal_Pradesh/FROG_Project/Species_delineate/genus_images/Duttaphrynus\n",
        "/home/csheth/Documents/Work/Arunachal_Pradesh/FROG_Project/2014_data/Images/General_Collection/804"
       ]
      },
      {
       "output_type": "stream",
       "stream": "stdout",
       "text": [
        " /home/csheth/Documents/Work/Arunachal_Pradesh/FROG_Project/Species_delineate/genus_images/Duttaphrynus\n",
        "/home/csheth/Documents/Work/Arunachal_Pradesh/FROG_Project/2014_data/Images/General_Collection/826"
       ]
      },
      {
       "output_type": "stream",
       "stream": "stdout",
       "text": [
        " /home/csheth/Documents/Work/Arunachal_Pradesh/FROG_Project/Species_delineate/genus_images/Duttaphrynus\n",
        "/home/csheth/Documents/Work/Arunachal_Pradesh/FROG_Project/2014_data/Images/General_Collection/827"
       ]
      },
      {
       "output_type": "stream",
       "stream": "stdout",
       "text": [
        " /home/csheth/Documents/Work/Arunachal_Pradesh/FROG_Project/Species_delineate/genus_images/Duttaphrynus\n",
        "/home/csheth/Documents/Work/Arunachal_Pradesh/FROG_Project/2014_data/Images/General_Collection/840"
       ]
      },
      {
       "output_type": "stream",
       "stream": "stdout",
       "text": [
        " /home/csheth/Documents/Work/Arunachal_Pradesh/FROG_Project/Species_delineate/genus_images/Duttaphrynus\n",
        "/home/csheth/Documents/Work/Arunachal_Pradesh/FROG_Project/2014_data/Images/General_Collection/852"
       ]
      },
      {
       "output_type": "stream",
       "stream": "stdout",
       "text": [
        " /home/csheth/Documents/Work/Arunachal_Pradesh/FROG_Project/Species_delineate/genus_images/Duttaphrynus\n",
        "/home/csheth/Documents/Work/Arunachal_Pradesh/FROG_Project/2014_data/Images/General_Collection/853"
       ]
      },
      {
       "output_type": "stream",
       "stream": "stdout",
       "text": [
        " /home/csheth/Documents/Work/Arunachal_Pradesh/FROG_Project/Species_delineate/genus_images/Duttaphrynus\n",
        "/home/csheth/Documents/Work/Arunachal_Pradesh/FROG_Project/2014_data/Images/General_Collection/857"
       ]
      },
      {
       "output_type": "stream",
       "stream": "stdout",
       "text": [
        " /home/csheth/Documents/Work/Arunachal_Pradesh/FROG_Project/Species_delineate/genus_images/Duttaphrynus\n",
        "/home/csheth/Documents/Work/Arunachal_Pradesh/FROG_Project/2014_data/Images/General_Collection/858"
       ]
      },
      {
       "output_type": "stream",
       "stream": "stdout",
       "text": [
        " /home/csheth/Documents/Work/Arunachal_Pradesh/FROG_Project/Species_delineate/genus_images/Duttaphrynus\n",
        "/home/csheth/Documents/Work/Arunachal_Pradesh/FROG_Project/2014_data/Images/General_Collection/862"
       ]
      },
      {
       "output_type": "stream",
       "stream": "stdout",
       "text": [
        " /home/csheth/Documents/Work/Arunachal_Pradesh/FROG_Project/Species_delineate/genus_images/Duttaphrynus\n",
        "/home/csheth/Documents/Work/Arunachal_Pradesh/FROG_Project/2014_data/Images/General_Collection/863"
       ]
      },
      {
       "output_type": "stream",
       "stream": "stdout",
       "text": [
        " /home/csheth/Documents/Work/Arunachal_Pradesh/FROG_Project/Species_delineate/genus_images/Duttaphrynus\n",
        "/home/csheth/Documents/Work/Arunachal_Pradesh/FROG_Project/2014_data/Images/General_Collection/900"
       ]
      },
      {
       "output_type": "stream",
       "stream": "stdout",
       "text": [
        " /home/csheth/Documents/Work/Arunachal_Pradesh/FROG_Project/Species_delineate/genus_images/Duttaphrynus\n",
        "/home/csheth/Documents/Work/Arunachal_Pradesh/FROG_Project/2014_data/Images/General_Collection/901"
       ]
      },
      {
       "output_type": "stream",
       "stream": "stdout",
       "text": [
        " /home/csheth/Documents/Work/Arunachal_Pradesh/FROG_Project/Species_delineate/genus_images/Duttaphrynus\n",
        "/home/csheth/Documents/Work/Arunachal_Pradesh/FROG_Project/2014_data/Images/General_Collection/925"
       ]
      },
      {
       "output_type": "stream",
       "stream": "stdout",
       "text": [
        " /home/csheth/Documents/Work/Arunachal_Pradesh/FROG_Project/Species_delineate/genus_images/Duttaphrynus\n",
        "/home/csheth/Documents/Work/Arunachal_Pradesh/FROG_Project/2014_data/Images/General_Collection/926"
       ]
      },
      {
       "output_type": "stream",
       "stream": "stdout",
       "text": [
        " /home/csheth/Documents/Work/Arunachal_Pradesh/FROG_Project/Species_delineate/genus_images/Duttaphrynus\n",
        "Processing genus : Ingerana"
       ]
      },
      {
       "output_type": "stream",
       "stream": "stdout",
       "text": [
        "\n",
        "/home/csheth/Documents/Work/Arunachal_Pradesh/FROG_Project/2014_data/Images/General_Collection/547 /home/csheth/Documents/Work/Arunachal_Pradesh/FROG_Project/Species_delineate/genus_images/Ingerana\n",
        "/home/csheth/Documents/Work/Arunachal_Pradesh/FROG_Project/2014_data/Images/General_Collection/919"
       ]
      },
      {
       "output_type": "stream",
       "stream": "stdout",
       "text": [
        " /home/csheth/Documents/Work/Arunachal_Pradesh/FROG_Project/Species_delineate/genus_images/Ingerana\n",
        "Processing genus : Kurixalus\n",
        "/home/csheth/Documents/Work/Arunachal_Pradesh/FROG_Project/2014_data/Images/General_Collection/698 /home/csheth/Documents/Work/Arunachal_Pradesh/FROG_Project/Species_delineate/genus_images/Kurixalus\n",
        "Processing genus : Leptobrachium"
       ]
      },
      {
       "output_type": "stream",
       "stream": "stdout",
       "text": [
        "\n",
        "/home/csheth/Documents/Work/Arunachal_Pradesh/FROG_Project/2014_data/Images/General_Collection/500 /home/csheth/Documents/Work/Arunachal_Pradesh/FROG_Project/Species_delineate/genus_images/Leptobrachium\n",
        "/home/csheth/Documents/Work/Arunachal_Pradesh/FROG_Project/2014_data/Images/General_Collection/540"
       ]
      },
      {
       "output_type": "stream",
       "stream": "stdout",
       "text": [
        " /home/csheth/Documents/Work/Arunachal_Pradesh/FROG_Project/Species_delineate/genus_images/Leptobrachium\n",
        "/home/csheth/Documents/Work/Arunachal_Pradesh/FROG_Project/2014_data/Images/General_Collection/541"
       ]
      },
      {
       "output_type": "stream",
       "stream": "stdout",
       "text": [
        " /home/csheth/Documents/Work/Arunachal_Pradesh/FROG_Project/Species_delineate/genus_images/Leptobrachium\n",
        "/home/csheth/Documents/Work/Arunachal_Pradesh/FROG_Project/2014_data/Images/General_Collection/542"
       ]
      },
      {
       "output_type": "stream",
       "stream": "stdout",
       "text": [
        " /home/csheth/Documents/Work/Arunachal_Pradesh/FROG_Project/Species_delineate/genus_images/Leptobrachium\n",
        "/home/csheth/Documents/Work/Arunachal_Pradesh/FROG_Project/2014_data/Images/General_Collection/543"
       ]
      },
      {
       "output_type": "stream",
       "stream": "stdout",
       "text": [
        " /home/csheth/Documents/Work/Arunachal_Pradesh/FROG_Project/Species_delineate/genus_images/Leptobrachium\n",
        "/home/csheth/Documents/Work/Arunachal_Pradesh/FROG_Project/2014_data/Images/General_Collection/813"
       ]
      },
      {
       "output_type": "stream",
       "stream": "stdout",
       "text": [
        " /home/csheth/Documents/Work/Arunachal_Pradesh/FROG_Project/Species_delineate/genus_images/Leptobrachium\n",
        "/home/csheth/Documents/Work/Arunachal_Pradesh/FROG_Project/2014_data/Images/General_Collection/851"
       ]
      },
      {
       "output_type": "stream",
       "stream": "stdout",
       "text": [
        " /home/csheth/Documents/Work/Arunachal_Pradesh/FROG_Project/Species_delineate/genus_images/Leptobrachium\n",
        "/home/csheth/Documents/Work/Arunachal_Pradesh/FROG_Project/2014_data/Images/General_Collection/872"
       ]
      },
      {
       "output_type": "stream",
       "stream": "stdout",
       "text": [
        " /home/csheth/Documents/Work/Arunachal_Pradesh/FROG_Project/Species_delineate/genus_images/Leptobrachium\n",
        "/home/csheth/Documents/Work/Arunachal_Pradesh/FROG_Project/2014_data/Images/General_Collection/880"
       ]
      },
      {
       "output_type": "stream",
       "stream": "stdout",
       "text": [
        " /home/csheth/Documents/Work/Arunachal_Pradesh/FROG_Project/Species_delineate/genus_images/Leptobrachium\n",
        "/home/csheth/Documents/Work/Arunachal_Pradesh/FROG_Project/2014_data/Images/General_Collection/888"
       ]
      },
      {
       "output_type": "stream",
       "stream": "stdout",
       "text": [
        " /home/csheth/Documents/Work/Arunachal_Pradesh/FROG_Project/Species_delineate/genus_images/Leptobrachium\n",
        "/home/csheth/Documents/Work/Arunachal_Pradesh/FROG_Project/2014_data/Images/General_Collection/892"
       ]
      },
      {
       "output_type": "stream",
       "stream": "stdout",
       "text": [
        " /home/csheth/Documents/Work/Arunachal_Pradesh/FROG_Project/Species_delineate/genus_images/Leptobrachium\n",
        "/home/csheth/Documents/Work/Arunachal_Pradesh/FROG_Project/2014_data/Images/General_Collection/914"
       ]
      },
      {
       "output_type": "stream",
       "stream": "stdout",
       "text": [
        " /home/csheth/Documents/Work/Arunachal_Pradesh/FROG_Project/Species_delineate/genus_images/Leptobrachium\n",
        "Processing genus : Limnonectes"
       ]
      },
      {
       "output_type": "stream",
       "stream": "stdout",
       "text": [
        "\n",
        "/home/csheth/Documents/Work/Arunachal_Pradesh/FROG_Project/2014_data/Images/General_Collection/520 /home/csheth/Documents/Work/Arunachal_Pradesh/FROG_Project/Species_delineate/genus_images/Limnonectes\n",
        "/home/csheth/Documents/Work/Arunachal_Pradesh/FROG_Project/2014_data/Images/General_Collection/693"
       ]
      },
      {
       "output_type": "stream",
       "stream": "stdout",
       "text": [
        " /home/csheth/Documents/Work/Arunachal_Pradesh/FROG_Project/Species_delineate/genus_images/Limnonectes\n",
        "/home/csheth/Documents/Work/Arunachal_Pradesh/FROG_Project/2014_data/Images/General_Collection/694"
       ]
      },
      {
       "output_type": "stream",
       "stream": "stdout",
       "text": [
        " /home/csheth/Documents/Work/Arunachal_Pradesh/FROG_Project/Species_delineate/genus_images/Limnonectes\n",
        "/home/csheth/Documents/Work/Arunachal_Pradesh/FROG_Project/2014_data/Images/General_Collection/728"
       ]
      },
      {
       "output_type": "stream",
       "stream": "stdout",
       "text": [
        " /home/csheth/Documents/Work/Arunachal_Pradesh/FROG_Project/Species_delineate/genus_images/Limnonectes\n",
        "/home/csheth/Documents/Work/Arunachal_Pradesh/FROG_Project/2014_data/Images/General_Collection/742"
       ]
      },
      {
       "output_type": "stream",
       "stream": "stdout",
       "text": [
        " /home/csheth/Documents/Work/Arunachal_Pradesh/FROG_Project/Species_delineate/genus_images/Limnonectes\n",
        "/home/csheth/Documents/Work/Arunachal_Pradesh/FROG_Project/2014_data/Images/General_Collection/763"
       ]
      },
      {
       "output_type": "stream",
       "stream": "stdout",
       "text": [
        " /home/csheth/Documents/Work/Arunachal_Pradesh/FROG_Project/Species_delineate/genus_images/Limnonectes\n",
        "/home/csheth/Documents/Work/Arunachal_Pradesh/FROG_Project/2014_data/Images/General_Collection/764"
       ]
      },
      {
       "output_type": "stream",
       "stream": "stdout",
       "text": [
        " /home/csheth/Documents/Work/Arunachal_Pradesh/FROG_Project/Species_delineate/genus_images/Limnonectes\n",
        "/home/csheth/Documents/Work/Arunachal_Pradesh/FROG_Project/2014_data/Images/General_Collection/780"
       ]
      },
      {
       "output_type": "stream",
       "stream": "stdout",
       "text": [
        " /home/csheth/Documents/Work/Arunachal_Pradesh/FROG_Project/Species_delineate/genus_images/Limnonectes\n",
        "Processing genus : Megophrys"
       ]
      },
      {
       "output_type": "stream",
       "stream": "stdout",
       "text": [
        "\n",
        "/home/csheth/Documents/Work/Arunachal_Pradesh/FROG_Project/2014_data/Images/General_Collection/501 /home/csheth/Documents/Work/Arunachal_Pradesh/FROG_Project/Species_delineate/genus_images/Megophrys\n",
        "/home/csheth/Documents/Work/Arunachal_Pradesh/FROG_Project/2014_data/Images/General_Collection/502 /home/csheth/Documents/Work/Arunachal_Pradesh/FROG_Project/Species_delineate/genus_images/Megophrys\n",
        "/home/csheth/Documents/Work/Arunachal_Pradesh/FROG_Project/2014_data/Images/General_Collection/504 /home/csheth/Documents/Work/Arunachal_Pradesh/FROG_Project/Species_delineate/genus_images/Megophrys\n",
        "/home/csheth/Documents/Work/Arunachal_Pradesh/FROG_Project/2014_data/Images/General_Collection/505"
       ]
      },
      {
       "output_type": "stream",
       "stream": "stdout",
       "text": [
        " /home/csheth/Documents/Work/Arunachal_Pradesh/FROG_Project/Species_delineate/genus_images/Megophrys\n",
        "/home/csheth/Documents/Work/Arunachal_Pradesh/FROG_Project/2014_data/Images/General_Collection/506"
       ]
      },
      {
       "output_type": "stream",
       "stream": "stdout",
       "text": [
        " /home/csheth/Documents/Work/Arunachal_Pradesh/FROG_Project/Species_delineate/genus_images/Megophrys\n",
        "/home/csheth/Documents/Work/Arunachal_Pradesh/FROG_Project/2014_data/Images/General_Collection/509"
       ]
      },
      {
       "output_type": "stream",
       "stream": "stdout",
       "text": [
        " /home/csheth/Documents/Work/Arunachal_Pradesh/FROG_Project/Species_delineate/genus_images/Megophrys\n",
        "/home/csheth/Documents/Work/Arunachal_Pradesh/FROG_Project/2014_data/Images/General_Collection/510"
       ]
      },
      {
       "output_type": "stream",
       "stream": "stdout",
       "text": [
        " /home/csheth/Documents/Work/Arunachal_Pradesh/FROG_Project/Species_delineate/genus_images/Megophrys\n",
        "/home/csheth/Documents/Work/Arunachal_Pradesh/FROG_Project/2014_data/Images/General_Collection/511"
       ]
      },
      {
       "output_type": "stream",
       "stream": "stdout",
       "text": [
        " /home/csheth/Documents/Work/Arunachal_Pradesh/FROG_Project/Species_delineate/genus_images/Megophrys\n",
        "/home/csheth/Documents/Work/Arunachal_Pradesh/FROG_Project/2014_data/Images/General_Collection/538"
       ]
      },
      {
       "output_type": "stream",
       "stream": "stdout",
       "text": [
        " /home/csheth/Documents/Work/Arunachal_Pradesh/FROG_Project/Species_delineate/genus_images/Megophrys\n",
        "/home/csheth/Documents/Work/Arunachal_Pradesh/FROG_Project/2014_data/Images/General_Collection/539"
       ]
      },
      {
       "output_type": "stream",
       "stream": "stdout",
       "text": [
        " /home/csheth/Documents/Work/Arunachal_Pradesh/FROG_Project/Species_delineate/genus_images/Megophrys\n",
        "/home/csheth/Documents/Work/Arunachal_Pradesh/FROG_Project/2014_data/Images/General_Collection/544"
       ]
      },
      {
       "output_type": "stream",
       "stream": "stdout",
       "text": [
        " /home/csheth/Documents/Work/Arunachal_Pradesh/FROG_Project/Species_delineate/genus_images/Megophrys\n",
        "/home/csheth/Documents/Work/Arunachal_Pradesh/FROG_Project/2014_data/Images/General_Collection/545"
       ]
      },
      {
       "output_type": "stream",
       "stream": "stdout",
       "text": [
        " /home/csheth/Documents/Work/Arunachal_Pradesh/FROG_Project/Species_delineate/genus_images/Megophrys\n",
        "/home/csheth/Documents/Work/Arunachal_Pradesh/FROG_Project/2014_data/Images/General_Collection/546"
       ]
      },
      {
       "output_type": "stream",
       "stream": "stdout",
       "text": [
        " /home/csheth/Documents/Work/Arunachal_Pradesh/FROG_Project/Species_delineate/genus_images/Megophrys\n",
        "/home/csheth/Documents/Work/Arunachal_Pradesh/FROG_Project/2014_data/Images/General_Collection/548"
       ]
      },
      {
       "output_type": "stream",
       "stream": "stdout",
       "text": [
        " /home/csheth/Documents/Work/Arunachal_Pradesh/FROG_Project/Species_delineate/genus_images/Megophrys\n",
        "/home/csheth/Documents/Work/Arunachal_Pradesh/FROG_Project/2014_data/Images/General_Collection/549"
       ]
      },
      {
       "output_type": "stream",
       "stream": "stdout",
       "text": [
        " /home/csheth/Documents/Work/Arunachal_Pradesh/FROG_Project/Species_delineate/genus_images/Megophrys\n",
        "/home/csheth/Documents/Work/Arunachal_Pradesh/FROG_Project/2014_data/Images/General_Collection/627"
       ]
      },
      {
       "output_type": "stream",
       "stream": "stdout",
       "text": [
        " /home/csheth/Documents/Work/Arunachal_Pradesh/FROG_Project/Species_delineate/genus_images/Megophrys\n",
        "/home/csheth/Documents/Work/Arunachal_Pradesh/FROG_Project/2014_data/Images/General_Collection/630"
       ]
      },
      {
       "output_type": "stream",
       "stream": "stdout",
       "text": [
        " /home/csheth/Documents/Work/Arunachal_Pradesh/FROG_Project/Species_delineate/genus_images/Megophrys\n",
        "/home/csheth/Documents/Work/Arunachal_Pradesh/FROG_Project/2014_data/Images/General_Collection/646"
       ]
      },
      {
       "output_type": "stream",
       "stream": "stdout",
       "text": [
        " /home/csheth/Documents/Work/Arunachal_Pradesh/FROG_Project/Species_delineate/genus_images/Megophrys\n",
        "/home/csheth/Documents/Work/Arunachal_Pradesh/FROG_Project/2014_data/Images/General_Collection/655"
       ]
      },
      {
       "output_type": "stream",
       "stream": "stdout",
       "text": [
        " /home/csheth/Documents/Work/Arunachal_Pradesh/FROG_Project/Species_delineate/genus_images/Megophrys\n",
        "/home/csheth/Documents/Work/Arunachal_Pradesh/FROG_Project/2014_data/Images/General_Collection/656"
       ]
      },
      {
       "output_type": "stream",
       "stream": "stdout",
       "text": [
        " /home/csheth/Documents/Work/Arunachal_Pradesh/FROG_Project/Species_delineate/genus_images/Megophrys\n",
        "/home/csheth/Documents/Work/Arunachal_Pradesh/FROG_Project/2014_data/Images/General_Collection/657"
       ]
      },
      {
       "output_type": "stream",
       "stream": "stdout",
       "text": [
        " /home/csheth/Documents/Work/Arunachal_Pradesh/FROG_Project/Species_delineate/genus_images/Megophrys\n",
        "/home/csheth/Documents/Work/Arunachal_Pradesh/FROG_Project/2014_data/Images/General_Collection/660"
       ]
      },
      {
       "output_type": "stream",
       "stream": "stdout",
       "text": [
        " /home/csheth/Documents/Work/Arunachal_Pradesh/FROG_Project/Species_delineate/genus_images/Megophrys\n",
        "/home/csheth/Documents/Work/Arunachal_Pradesh/FROG_Project/2014_data/Images/General_Collection/661"
       ]
      },
      {
       "output_type": "stream",
       "stream": "stdout",
       "text": [
        " /home/csheth/Documents/Work/Arunachal_Pradesh/FROG_Project/Species_delineate/genus_images/Megophrys\n",
        "/home/csheth/Documents/Work/Arunachal_Pradesh/FROG_Project/2014_data/Images/General_Collection/662"
       ]
      },
      {
       "output_type": "stream",
       "stream": "stdout",
       "text": [
        " /home/csheth/Documents/Work/Arunachal_Pradesh/FROG_Project/Species_delineate/genus_images/Megophrys\n",
        "/home/csheth/Documents/Work/Arunachal_Pradesh/FROG_Project/2014_data/Images/General_Collection/663"
       ]
      },
      {
       "output_type": "stream",
       "stream": "stdout",
       "text": [
        " /home/csheth/Documents/Work/Arunachal_Pradesh/FROG_Project/Species_delineate/genus_images/Megophrys\n",
        "/home/csheth/Documents/Work/Arunachal_Pradesh/FROG_Project/2014_data/Images/General_Collection/664"
       ]
      },
      {
       "output_type": "stream",
       "stream": "stdout",
       "text": [
        " /home/csheth/Documents/Work/Arunachal_Pradesh/FROG_Project/Species_delineate/genus_images/Megophrys\n",
        "/home/csheth/Documents/Work/Arunachal_Pradesh/FROG_Project/2014_data/Images/General_Collection/690"
       ]
      },
      {
       "output_type": "stream",
       "stream": "stdout",
       "text": [
        " /home/csheth/Documents/Work/Arunachal_Pradesh/FROG_Project/Species_delineate/genus_images/Megophrys\n",
        "/home/csheth/Documents/Work/Arunachal_Pradesh/FROG_Project/2014_data/Images/General_Collection/691"
       ]
      },
      {
       "output_type": "stream",
       "stream": "stdout",
       "text": [
        " /home/csheth/Documents/Work/Arunachal_Pradesh/FROG_Project/Species_delineate/genus_images/Megophrys\n",
        "/home/csheth/Documents/Work/Arunachal_Pradesh/FROG_Project/2014_data/Images/General_Collection/692"
       ]
      },
      {
       "output_type": "stream",
       "stream": "stdout",
       "text": [
        " /home/csheth/Documents/Work/Arunachal_Pradesh/FROG_Project/Species_delineate/genus_images/Megophrys\n",
        "/home/csheth/Documents/Work/Arunachal_Pradesh/FROG_Project/2014_data/Images/General_Collection/695"
       ]
      },
      {
       "output_type": "stream",
       "stream": "stdout",
       "text": [
        " /home/csheth/Documents/Work/Arunachal_Pradesh/FROG_Project/Species_delineate/genus_images/Megophrys\n",
        "/home/csheth/Documents/Work/Arunachal_Pradesh/FROG_Project/2014_data/Images/General_Collection/696"
       ]
      },
      {
       "output_type": "stream",
       "stream": "stdout",
       "text": [
        " /home/csheth/Documents/Work/Arunachal_Pradesh/FROG_Project/Species_delineate/genus_images/Megophrys\n",
        "/home/csheth/Documents/Work/Arunachal_Pradesh/FROG_Project/2014_data/Images/General_Collection/709"
       ]
      },
      {
       "output_type": "stream",
       "stream": "stdout",
       "text": [
        " /home/csheth/Documents/Work/Arunachal_Pradesh/FROG_Project/Species_delineate/genus_images/Megophrys\n",
        "/home/csheth/Documents/Work/Arunachal_Pradesh/FROG_Project/2014_data/Images/General_Collection/710"
       ]
      },
      {
       "output_type": "stream",
       "stream": "stdout",
       "text": [
        " /home/csheth/Documents/Work/Arunachal_Pradesh/FROG_Project/Species_delineate/genus_images/Megophrys\n",
        "/home/csheth/Documents/Work/Arunachal_Pradesh/FROG_Project/2014_data/Images/General_Collection/712"
       ]
      },
      {
       "output_type": "stream",
       "stream": "stdout",
       "text": [
        " /home/csheth/Documents/Work/Arunachal_Pradesh/FROG_Project/Species_delineate/genus_images/Megophrys\n",
        "/home/csheth/Documents/Work/Arunachal_Pradesh/FROG_Project/2014_data/Images/General_Collection/717"
       ]
      },
      {
       "output_type": "stream",
       "stream": "stdout",
       "text": [
        " /home/csheth/Documents/Work/Arunachal_Pradesh/FROG_Project/Species_delineate/genus_images/Megophrys\n",
        "/home/csheth/Documents/Work/Arunachal_Pradesh/FROG_Project/2014_data/Images/General_Collection/723"
       ]
      },
      {
       "output_type": "stream",
       "stream": "stdout",
       "text": [
        " /home/csheth/Documents/Work/Arunachal_Pradesh/FROG_Project/Species_delineate/genus_images/Megophrys\n",
        "/home/csheth/Documents/Work/Arunachal_Pradesh/FROG_Project/2014_data/Images/General_Collection/724"
       ]
      },
      {
       "output_type": "stream",
       "stream": "stdout",
       "text": [
        " /home/csheth/Documents/Work/Arunachal_Pradesh/FROG_Project/Species_delineate/genus_images/Megophrys\n",
        "/home/csheth/Documents/Work/Arunachal_Pradesh/FROG_Project/2014_data/Images/General_Collection/725"
       ]
      },
      {
       "output_type": "stream",
       "stream": "stdout",
       "text": [
        " /home/csheth/Documents/Work/Arunachal_Pradesh/FROG_Project/Species_delineate/genus_images/Megophrys\n",
        "/home/csheth/Documents/Work/Arunachal_Pradesh/FROG_Project/2014_data/Images/General_Collection/730"
       ]
      },
      {
       "output_type": "stream",
       "stream": "stdout",
       "text": [
        " /home/csheth/Documents/Work/Arunachal_Pradesh/FROG_Project/Species_delineate/genus_images/Megophrys\n",
        "/home/csheth/Documents/Work/Arunachal_Pradesh/FROG_Project/2014_data/Images/General_Collection/731"
       ]
      },
      {
       "output_type": "stream",
       "stream": "stdout",
       "text": [
        " /home/csheth/Documents/Work/Arunachal_Pradesh/FROG_Project/Species_delineate/genus_images/Megophrys\n",
        "/home/csheth/Documents/Work/Arunachal_Pradesh/FROG_Project/2014_data/Images/General_Collection/732"
       ]
      },
      {
       "output_type": "stream",
       "stream": "stdout",
       "text": [
        " /home/csheth/Documents/Work/Arunachal_Pradesh/FROG_Project/Species_delineate/genus_images/Megophrys\n",
        "/home/csheth/Documents/Work/Arunachal_Pradesh/FROG_Project/2014_data/Images/General_Collection/735"
       ]
      },
      {
       "output_type": "stream",
       "stream": "stdout",
       "text": [
        " /home/csheth/Documents/Work/Arunachal_Pradesh/FROG_Project/Species_delineate/genus_images/Megophrys\n",
        "/home/csheth/Documents/Work/Arunachal_Pradesh/FROG_Project/2014_data/Images/General_Collection/737"
       ]
      },
      {
       "output_type": "stream",
       "stream": "stdout",
       "text": [
        " /home/csheth/Documents/Work/Arunachal_Pradesh/FROG_Project/Species_delineate/genus_images/Megophrys\n",
        "/home/csheth/Documents/Work/Arunachal_Pradesh/FROG_Project/2014_data/Images/General_Collection/738"
       ]
      },
      {
       "output_type": "stream",
       "stream": "stdout",
       "text": [
        " /home/csheth/Documents/Work/Arunachal_Pradesh/FROG_Project/Species_delineate/genus_images/Megophrys\n",
        "/home/csheth/Documents/Work/Arunachal_Pradesh/FROG_Project/2014_data/Images/General_Collection/739"
       ]
      },
      {
       "output_type": "stream",
       "stream": "stdout",
       "text": [
        " /home/csheth/Documents/Work/Arunachal_Pradesh/FROG_Project/Species_delineate/genus_images/Megophrys\n",
        "/home/csheth/Documents/Work/Arunachal_Pradesh/FROG_Project/2014_data/Images/General_Collection/740"
       ]
      },
      {
       "output_type": "stream",
       "stream": "stdout",
       "text": [
        " /home/csheth/Documents/Work/Arunachal_Pradesh/FROG_Project/Species_delineate/genus_images/Megophrys\n",
        "/home/csheth/Documents/Work/Arunachal_Pradesh/FROG_Project/2014_data/Images/General_Collection/741"
       ]
      },
      {
       "output_type": "stream",
       "stream": "stdout",
       "text": [
        " /home/csheth/Documents/Work/Arunachal_Pradesh/FROG_Project/Species_delineate/genus_images/Megophrys\n",
        "/home/csheth/Documents/Work/Arunachal_Pradesh/FROG_Project/2014_data/Images/General_Collection/743"
       ]
      },
      {
       "output_type": "stream",
       "stream": "stdout",
       "text": [
        " /home/csheth/Documents/Work/Arunachal_Pradesh/FROG_Project/Species_delineate/genus_images/Megophrys\n",
        "/home/csheth/Documents/Work/Arunachal_Pradesh/FROG_Project/2014_data/Images/General_Collection/747"
       ]
      },
      {
       "output_type": "stream",
       "stream": "stdout",
       "text": [
        " /home/csheth/Documents/Work/Arunachal_Pradesh/FROG_Project/Species_delineate/genus_images/Megophrys\n",
        "/home/csheth/Documents/Work/Arunachal_Pradesh/FROG_Project/2014_data/Images/General_Collection/750"
       ]
      },
      {
       "output_type": "stream",
       "stream": "stdout",
       "text": [
        " /home/csheth/Documents/Work/Arunachal_Pradesh/FROG_Project/Species_delineate/genus_images/Megophrys\n",
        "/home/csheth/Documents/Work/Arunachal_Pradesh/FROG_Project/2014_data/Images/General_Collection/753"
       ]
      },
      {
       "output_type": "stream",
       "stream": "stdout",
       "text": [
        " /home/csheth/Documents/Work/Arunachal_Pradesh/FROG_Project/Species_delineate/genus_images/Megophrys\n",
        "/home/csheth/Documents/Work/Arunachal_Pradesh/FROG_Project/2014_data/Images/General_Collection/754"
       ]
      },
      {
       "output_type": "stream",
       "stream": "stdout",
       "text": [
        " /home/csheth/Documents/Work/Arunachal_Pradesh/FROG_Project/Species_delineate/genus_images/Megophrys\n",
        "/home/csheth/Documents/Work/Arunachal_Pradesh/FROG_Project/2014_data/Images/General_Collection/755"
       ]
      },
      {
       "output_type": "stream",
       "stream": "stdout",
       "text": [
        " /home/csheth/Documents/Work/Arunachal_Pradesh/FROG_Project/Species_delineate/genus_images/Megophrys\n",
        "/home/csheth/Documents/Work/Arunachal_Pradesh/FROG_Project/2014_data/Images/General_Collection/757"
       ]
      },
      {
       "output_type": "stream",
       "stream": "stdout",
       "text": [
        " /home/csheth/Documents/Work/Arunachal_Pradesh/FROG_Project/Species_delineate/genus_images/Megophrys\n",
        "/home/csheth/Documents/Work/Arunachal_Pradesh/FROG_Project/2014_data/Images/General_Collection/758"
       ]
      },
      {
       "output_type": "stream",
       "stream": "stdout",
       "text": [
        " /home/csheth/Documents/Work/Arunachal_Pradesh/FROG_Project/Species_delineate/genus_images/Megophrys\n",
        "/home/csheth/Documents/Work/Arunachal_Pradesh/FROG_Project/2014_data/Images/General_Collection/759"
       ]
      },
      {
       "output_type": "stream",
       "stream": "stdout",
       "text": [
        " /home/csheth/Documents/Work/Arunachal_Pradesh/FROG_Project/Species_delineate/genus_images/Megophrys\n",
        "/home/csheth/Documents/Work/Arunachal_Pradesh/FROG_Project/2014_data/Images/General_Collection/760"
       ]
      },
      {
       "output_type": "stream",
       "stream": "stdout",
       "text": [
        " /home/csheth/Documents/Work/Arunachal_Pradesh/FROG_Project/Species_delineate/genus_images/Megophrys\n",
        "/home/csheth/Documents/Work/Arunachal_Pradesh/FROG_Project/2014_data/Images/General_Collection/761"
       ]
      },
      {
       "output_type": "stream",
       "stream": "stdout",
       "text": [
        " /home/csheth/Documents/Work/Arunachal_Pradesh/FROG_Project/Species_delineate/genus_images/Megophrys\n",
        "/home/csheth/Documents/Work/Arunachal_Pradesh/FROG_Project/2014_data/Images/General_Collection/770"
       ]
      },
      {
       "output_type": "stream",
       "stream": "stdout",
       "text": [
        " /home/csheth/Documents/Work/Arunachal_Pradesh/FROG_Project/Species_delineate/genus_images/Megophrys\n",
        "/home/csheth/Documents/Work/Arunachal_Pradesh/FROG_Project/2014_data/Images/General_Collection/771"
       ]
      },
      {
       "output_type": "stream",
       "stream": "stdout",
       "text": [
        " /home/csheth/Documents/Work/Arunachal_Pradesh/FROG_Project/Species_delineate/genus_images/Megophrys\n",
        "/home/csheth/Documents/Work/Arunachal_Pradesh/FROG_Project/2014_data/Images/General_Collection/775"
       ]
      },
      {
       "output_type": "stream",
       "stream": "stdout",
       "text": [
        " /home/csheth/Documents/Work/Arunachal_Pradesh/FROG_Project/Species_delineate/genus_images/Megophrys\n",
        "/home/csheth/Documents/Work/Arunachal_Pradesh/FROG_Project/2014_data/Images/General_Collection/776"
       ]
      },
      {
       "output_type": "stream",
       "stream": "stdout",
       "text": [
        " /home/csheth/Documents/Work/Arunachal_Pradesh/FROG_Project/Species_delineate/genus_images/Megophrys\n",
        "/home/csheth/Documents/Work/Arunachal_Pradesh/FROG_Project/2014_data/Images/General_Collection/784"
       ]
      },
      {
       "output_type": "stream",
       "stream": "stdout",
       "text": [
        " /home/csheth/Documents/Work/Arunachal_Pradesh/FROG_Project/Species_delineate/genus_images/Megophrys\n",
        "/home/csheth/Documents/Work/Arunachal_Pradesh/FROG_Project/2014_data/Images/General_Collection/785"
       ]
      },
      {
       "output_type": "stream",
       "stream": "stdout",
       "text": [
        " /home/csheth/Documents/Work/Arunachal_Pradesh/FROG_Project/Species_delineate/genus_images/Megophrys\n",
        "/home/csheth/Documents/Work/Arunachal_Pradesh/FROG_Project/2014_data/Images/General_Collection/822"
       ]
      },
      {
       "output_type": "stream",
       "stream": "stdout",
       "text": [
        " /home/csheth/Documents/Work/Arunachal_Pradesh/FROG_Project/Species_delineate/genus_images/Megophrys\n",
        "/home/csheth/Documents/Work/Arunachal_Pradesh/FROG_Project/2014_data/Images/General_Collection/832 /home/csheth/Documents/Work/Arunachal_Pradesh/FROG_Project/Species_delineate/genus_images/Megophrys\n",
        "/home/csheth/Documents/Work/Arunachal_Pradesh/FROG_Project/2014_data/Images/General_Collection/833 /home/csheth/Documents/Work/Arunachal_Pradesh/FROG_Project/Species_delineate/genus_images/Megophrys\n",
        "/home/csheth/Documents/Work/Arunachal_Pradesh/FROG_Project/2014_data/Images/General_Collection/834 /home/csheth/Documents/Work/Arunachal_Pradesh/FROG_Project/Species_delineate/genus_images/Megophrys\n",
        "/home/csheth/Documents/Work/Arunachal_Pradesh/FROG_Project/2014_data/Images/General_Collection/835 /home/csheth/Documents/Work/Arunachal_Pradesh/FROG_Project/Species_delineate/genus_images/Megophrys\n",
        "/home/csheth/Documents/Work/Arunachal_Pradesh/FROG_Project/2014_data/Images/General_Collection/836 /home/csheth/Documents/Work/Arunachal_Pradesh/FROG_Project/Species_delineate/genus_images/Megophrys\n",
        "/home/csheth/Documents/Work/Arunachal_Pradesh/FROG_Project/2014_data/Images/General_Collection/837 /home/csheth/Documents/Work/Arunachal_Pradesh/FROG_Project/Species_delineate/genus_images/Megophrys\n",
        "/home/csheth/Documents/Work/Arunachal_Pradesh/FROG_Project/2014_data/Images/General_Collection/838 /home/csheth/Documents/Work/Arunachal_Pradesh/FROG_Project/Species_delineate/genus_images/Megophrys\n",
        "/home/csheth/Documents/Work/Arunachal_Pradesh/FROG_Project/2014_data/Images/General_Collection/839 /home/csheth/Documents/Work/Arunachal_Pradesh/FROG_Project/Species_delineate/genus_images/Megophrys\n",
        "/home/csheth/Documents/Work/Arunachal_Pradesh/FROG_Project/2014_data/Images/General_Collection/841"
       ]
      },
      {
       "output_type": "stream",
       "stream": "stdout",
       "text": [
        " /home/csheth/Documents/Work/Arunachal_Pradesh/FROG_Project/Species_delineate/genus_images/Megophrys\n",
        "/home/csheth/Documents/Work/Arunachal_Pradesh/FROG_Project/2014_data/Images/General_Collection/855"
       ]
      },
      {
       "output_type": "stream",
       "stream": "stdout",
       "text": [
        " /home/csheth/Documents/Work/Arunachal_Pradesh/FROG_Project/Species_delineate/genus_images/Megophrys\n",
        "/home/csheth/Documents/Work/Arunachal_Pradesh/FROG_Project/2014_data/Images/General_Collection/856"
       ]
      },
      {
       "output_type": "stream",
       "stream": "stdout",
       "text": [
        " /home/csheth/Documents/Work/Arunachal_Pradesh/FROG_Project/Species_delineate/genus_images/Megophrys\n",
        "/home/csheth/Documents/Work/Arunachal_Pradesh/FROG_Project/2014_data/Images/General_Collection/859"
       ]
      },
      {
       "output_type": "stream",
       "stream": "stdout",
       "text": [
        " /home/csheth/Documents/Work/Arunachal_Pradesh/FROG_Project/Species_delineate/genus_images/Megophrys\n",
        "/home/csheth/Documents/Work/Arunachal_Pradesh/FROG_Project/2014_data/Images/General_Collection/860"
       ]
      },
      {
       "output_type": "stream",
       "stream": "stdout",
       "text": [
        " /home/csheth/Documents/Work/Arunachal_Pradesh/FROG_Project/Species_delineate/genus_images/Megophrys\n",
        "/home/csheth/Documents/Work/Arunachal_Pradesh/FROG_Project/2014_data/Images/General_Collection/861"
       ]
      },
      {
       "output_type": "stream",
       "stream": "stdout",
       "text": [
        " /home/csheth/Documents/Work/Arunachal_Pradesh/FROG_Project/Species_delineate/genus_images/Megophrys\n",
        "/home/csheth/Documents/Work/Arunachal_Pradesh/FROG_Project/2014_data/Images/General_Collection/876"
       ]
      },
      {
       "output_type": "stream",
       "stream": "stdout",
       "text": [
        " /home/csheth/Documents/Work/Arunachal_Pradesh/FROG_Project/Species_delineate/genus_images/Megophrys\n",
        "/home/csheth/Documents/Work/Arunachal_Pradesh/FROG_Project/2014_data/Images/General_Collection/877"
       ]
      },
      {
       "output_type": "stream",
       "stream": "stdout",
       "text": [
        " /home/csheth/Documents/Work/Arunachal_Pradesh/FROG_Project/Species_delineate/genus_images/Megophrys\n",
        "/home/csheth/Documents/Work/Arunachal_Pradesh/FROG_Project/2014_data/Images/General_Collection/878"
       ]
      },
      {
       "output_type": "stream",
       "stream": "stdout",
       "text": [
        " /home/csheth/Documents/Work/Arunachal_Pradesh/FROG_Project/Species_delineate/genus_images/Megophrys\n",
        "/home/csheth/Documents/Work/Arunachal_Pradesh/FROG_Project/2014_data/Images/General_Collection/879"
       ]
      },
      {
       "output_type": "stream",
       "stream": "stdout",
       "text": [
        " /home/csheth/Documents/Work/Arunachal_Pradesh/FROG_Project/Species_delineate/genus_images/Megophrys\n",
        "/home/csheth/Documents/Work/Arunachal_Pradesh/FROG_Project/2014_data/Images/General_Collection/881"
       ]
      },
      {
       "output_type": "stream",
       "stream": "stdout",
       "text": [
        " /home/csheth/Documents/Work/Arunachal_Pradesh/FROG_Project/Species_delineate/genus_images/Megophrys\n",
        "/home/csheth/Documents/Work/Arunachal_Pradesh/FROG_Project/2014_data/Images/General_Collection/882"
       ]
      },
      {
       "output_type": "stream",
       "stream": "stdout",
       "text": [
        " /home/csheth/Documents/Work/Arunachal_Pradesh/FROG_Project/Species_delineate/genus_images/Megophrys\n",
        "/home/csheth/Documents/Work/Arunachal_Pradesh/FROG_Project/2014_data/Images/General_Collection/883"
       ]
      },
      {
       "output_type": "stream",
       "stream": "stdout",
       "text": [
        " /home/csheth/Documents/Work/Arunachal_Pradesh/FROG_Project/Species_delineate/genus_images/Megophrys\n",
        "/home/csheth/Documents/Work/Arunachal_Pradesh/FROG_Project/2014_data/Images/General_Collection/885"
       ]
      },
      {
       "output_type": "stream",
       "stream": "stdout",
       "text": [
        " /home/csheth/Documents/Work/Arunachal_Pradesh/FROG_Project/Species_delineate/genus_images/Megophrys\n",
        "/home/csheth/Documents/Work/Arunachal_Pradesh/FROG_Project/2014_data/Images/General_Collection/886"
       ]
      },
      {
       "output_type": "stream",
       "stream": "stdout",
       "text": [
        " /home/csheth/Documents/Work/Arunachal_Pradesh/FROG_Project/Species_delineate/genus_images/Megophrys\n",
        "/home/csheth/Documents/Work/Arunachal_Pradesh/FROG_Project/2014_data/Images/General_Collection/889"
       ]
      },
      {
       "output_type": "stream",
       "stream": "stdout",
       "text": [
        " /home/csheth/Documents/Work/Arunachal_Pradesh/FROG_Project/Species_delineate/genus_images/Megophrys\n",
        "/home/csheth/Documents/Work/Arunachal_Pradesh/FROG_Project/2014_data/Images/General_Collection/890"
       ]
      },
      {
       "output_type": "stream",
       "stream": "stdout",
       "text": [
        " /home/csheth/Documents/Work/Arunachal_Pradesh/FROG_Project/Species_delineate/genus_images/Megophrys\n",
        "/home/csheth/Documents/Work/Arunachal_Pradesh/FROG_Project/2014_data/Images/General_Collection/891"
       ]
      },
      {
       "output_type": "stream",
       "stream": "stdout",
       "text": [
        " /home/csheth/Documents/Work/Arunachal_Pradesh/FROG_Project/Species_delineate/genus_images/Megophrys\n",
        "/home/csheth/Documents/Work/Arunachal_Pradesh/FROG_Project/2014_data/Images/General_Collection/893"
       ]
      },
      {
       "output_type": "stream",
       "stream": "stdout",
       "text": [
        " /home/csheth/Documents/Work/Arunachal_Pradesh/FROG_Project/Species_delineate/genus_images/Megophrys\n",
        "/home/csheth/Documents/Work/Arunachal_Pradesh/FROG_Project/2014_data/Images/General_Collection/902"
       ]
      },
      {
       "output_type": "stream",
       "stream": "stdout",
       "text": [
        " /home/csheth/Documents/Work/Arunachal_Pradesh/FROG_Project/Species_delineate/genus_images/Megophrys\n",
        "/home/csheth/Documents/Work/Arunachal_Pradesh/FROG_Project/2014_data/Images/General_Collection/903"
       ]
      },
      {
       "output_type": "stream",
       "stream": "stdout",
       "text": [
        " /home/csheth/Documents/Work/Arunachal_Pradesh/FROG_Project/Species_delineate/genus_images/Megophrys\n",
        "/home/csheth/Documents/Work/Arunachal_Pradesh/FROG_Project/2014_data/Images/General_Collection/908"
       ]
      },
      {
       "output_type": "stream",
       "stream": "stdout",
       "text": [
        " /home/csheth/Documents/Work/Arunachal_Pradesh/FROG_Project/Species_delineate/genus_images/Megophrys\n",
        "/home/csheth/Documents/Work/Arunachal_Pradesh/FROG_Project/2014_data/Images/General_Collection/909"
       ]
      },
      {
       "output_type": "stream",
       "stream": "stdout",
       "text": [
        " /home/csheth/Documents/Work/Arunachal_Pradesh/FROG_Project/Species_delineate/genus_images/Megophrys\n",
        "/home/csheth/Documents/Work/Arunachal_Pradesh/FROG_Project/2014_data/Images/General_Collection/912"
       ]
      },
      {
       "output_type": "stream",
       "stream": "stdout",
       "text": [
        " /home/csheth/Documents/Work/Arunachal_Pradesh/FROG_Project/Species_delineate/genus_images/Megophrys\n",
        "/home/csheth/Documents/Work/Arunachal_Pradesh/FROG_Project/2014_data/Images/General_Collection/915"
       ]
      },
      {
       "output_type": "stream",
       "stream": "stdout",
       "text": [
        " /home/csheth/Documents/Work/Arunachal_Pradesh/FROG_Project/Species_delineate/genus_images/Megophrys\n",
        "/home/csheth/Documents/Work/Arunachal_Pradesh/FROG_Project/2014_data/Images/General_Collection/916"
       ]
      },
      {
       "output_type": "stream",
       "stream": "stdout",
       "text": [
        " /home/csheth/Documents/Work/Arunachal_Pradesh/FROG_Project/Species_delineate/genus_images/Megophrys\n",
        "/home/csheth/Documents/Work/Arunachal_Pradesh/FROG_Project/2014_data/Images/General_Collection/924"
       ]
      },
      {
       "output_type": "stream",
       "stream": "stdout",
       "text": [
        " /home/csheth/Documents/Work/Arunachal_Pradesh/FROG_Project/Species_delineate/genus_images/Megophrys\n",
        "/home/csheth/Documents/Work/Arunachal_Pradesh/FROG_Project/2014_data/Images/General_Collection/927"
       ]
      },
      {
       "output_type": "stream",
       "stream": "stdout",
       "text": [
        " /home/csheth/Documents/Work/Arunachal_Pradesh/FROG_Project/Species_delineate/genus_images/Megophrys\n",
        "Processing genus : Nanorana"
       ]
      },
      {
       "output_type": "stream",
       "stream": "stdout",
       "text": [
        "\n",
        "/home/csheth/Documents/Work/Arunachal_Pradesh/FROG_Project/2014_data/Images/General_Collection/512 /home/csheth/Documents/Work/Arunachal_Pradesh/FROG_Project/Species_delineate/genus_images/Nanorana\n",
        "/home/csheth/Documents/Work/Arunachal_Pradesh/FROG_Project/2014_data/Images/General_Collection/513"
       ]
      },
      {
       "output_type": "stream",
       "stream": "stdout",
       "text": [
        " /home/csheth/Documents/Work/Arunachal_Pradesh/FROG_Project/Species_delineate/genus_images/Nanorana\n",
        "/home/csheth/Documents/Work/Arunachal_Pradesh/FROG_Project/2014_data/Images/General_Collection/514"
       ]
      },
      {
       "output_type": "stream",
       "stream": "stdout",
       "text": [
        " /home/csheth/Documents/Work/Arunachal_Pradesh/FROG_Project/Species_delineate/genus_images/Nanorana\n",
        "/home/csheth/Documents/Work/Arunachal_Pradesh/FROG_Project/2014_data/Images/General_Collection/515"
       ]
      },
      {
       "output_type": "stream",
       "stream": "stdout",
       "text": [
        " /home/csheth/Documents/Work/Arunachal_Pradesh/FROG_Project/Species_delineate/genus_images/Nanorana\n",
        "/home/csheth/Documents/Work/Arunachal_Pradesh/FROG_Project/2014_data/Images/General_Collection/516"
       ]
      },
      {
       "output_type": "stream",
       "stream": "stdout",
       "text": [
        " /home/csheth/Documents/Work/Arunachal_Pradesh/FROG_Project/Species_delineate/genus_images/Nanorana\n",
        "/home/csheth/Documents/Work/Arunachal_Pradesh/FROG_Project/2014_data/Images/General_Collection/517"
       ]
      },
      {
       "output_type": "stream",
       "stream": "stdout",
       "text": [
        " /home/csheth/Documents/Work/Arunachal_Pradesh/FROG_Project/Species_delineate/genus_images/Nanorana\n",
        "/home/csheth/Documents/Work/Arunachal_Pradesh/FROG_Project/2014_data/Images/General_Collection/518"
       ]
      },
      {
       "output_type": "stream",
       "stream": "stdout",
       "text": [
        " /home/csheth/Documents/Work/Arunachal_Pradesh/FROG_Project/Species_delineate/genus_images/Nanorana\n",
        "/home/csheth/Documents/Work/Arunachal_Pradesh/FROG_Project/2014_data/Images/General_Collection/519"
       ]
      },
      {
       "output_type": "stream",
       "stream": "stdout",
       "text": [
        " /home/csheth/Documents/Work/Arunachal_Pradesh/FROG_Project/Species_delineate/genus_images/Nanorana\n",
        "/home/csheth/Documents/Work/Arunachal_Pradesh/FROG_Project/2014_data/Images/General_Collection/521"
       ]
      },
      {
       "output_type": "stream",
       "stream": "stdout",
       "text": [
        " /home/csheth/Documents/Work/Arunachal_Pradesh/FROG_Project/Species_delineate/genus_images/Nanorana\n",
        "/home/csheth/Documents/Work/Arunachal_Pradesh/FROG_Project/2014_data/Images/General_Collection/522"
       ]
      },
      {
       "output_type": "stream",
       "stream": "stdout",
       "text": [
        " /home/csheth/Documents/Work/Arunachal_Pradesh/FROG_Project/Species_delineate/genus_images/Nanorana\n",
        "/home/csheth/Documents/Work/Arunachal_Pradesh/FROG_Project/2014_data/Images/General_Collection/523"
       ]
      },
      {
       "output_type": "stream",
       "stream": "stdout",
       "text": [
        " /home/csheth/Documents/Work/Arunachal_Pradesh/FROG_Project/Species_delineate/genus_images/Nanorana\n",
        "/home/csheth/Documents/Work/Arunachal_Pradesh/FROG_Project/2014_data/Images/General_Collection/524"
       ]
      },
      {
       "output_type": "stream",
       "stream": "stdout",
       "text": [
        " /home/csheth/Documents/Work/Arunachal_Pradesh/FROG_Project/Species_delineate/genus_images/Nanorana\n",
        "/home/csheth/Documents/Work/Arunachal_Pradesh/FROG_Project/2014_data/Images/General_Collection/525"
       ]
      },
      {
       "output_type": "stream",
       "stream": "stdout",
       "text": [
        " /home/csheth/Documents/Work/Arunachal_Pradesh/FROG_Project/Species_delineate/genus_images/Nanorana\n",
        "/home/csheth/Documents/Work/Arunachal_Pradesh/FROG_Project/2014_data/Images/General_Collection/526"
       ]
      },
      {
       "output_type": "stream",
       "stream": "stdout",
       "text": [
        " /home/csheth/Documents/Work/Arunachal_Pradesh/FROG_Project/Species_delineate/genus_images/Nanorana\n",
        "/home/csheth/Documents/Work/Arunachal_Pradesh/FROG_Project/2014_data/Images/General_Collection/527"
       ]
      },
      {
       "output_type": "stream",
       "stream": "stdout",
       "text": [
        " /home/csheth/Documents/Work/Arunachal_Pradesh/FROG_Project/Species_delineate/genus_images/Nanorana\n",
        "/home/csheth/Documents/Work/Arunachal_Pradesh/FROG_Project/2014_data/Images/General_Collection/528"
       ]
      },
      {
       "output_type": "stream",
       "stream": "stdout",
       "text": [
        " /home/csheth/Documents/Work/Arunachal_Pradesh/FROG_Project/Species_delineate/genus_images/Nanorana\n",
        "/home/csheth/Documents/Work/Arunachal_Pradesh/FROG_Project/2014_data/Images/General_Collection/530"
       ]
      },
      {
       "output_type": "stream",
       "stream": "stdout",
       "text": [
        " /home/csheth/Documents/Work/Arunachal_Pradesh/FROG_Project/Species_delineate/genus_images/Nanorana\n",
        "/home/csheth/Documents/Work/Arunachal_Pradesh/FROG_Project/2014_data/Images/General_Collection/531"
       ]
      },
      {
       "output_type": "stream",
       "stream": "stdout",
       "text": [
        " /home/csheth/Documents/Work/Arunachal_Pradesh/FROG_Project/Species_delineate/genus_images/Nanorana\n",
        "/home/csheth/Documents/Work/Arunachal_Pradesh/FROG_Project/2014_data/Images/General_Collection/550"
       ]
      },
      {
       "output_type": "stream",
       "stream": "stdout",
       "text": [
        " /home/csheth/Documents/Work/Arunachal_Pradesh/FROG_Project/Species_delineate/genus_images/Nanorana\n",
        "/home/csheth/Documents/Work/Arunachal_Pradesh/FROG_Project/2014_data/Images/General_Collection/560"
       ]
      },
      {
       "output_type": "stream",
       "stream": "stdout",
       "text": [
        " /home/csheth/Documents/Work/Arunachal_Pradesh/FROG_Project/Species_delineate/genus_images/Nanorana\n",
        "/home/csheth/Documents/Work/Arunachal_Pradesh/FROG_Project/2014_data/Images/General_Collection/562"
       ]
      },
      {
       "output_type": "stream",
       "stream": "stdout",
       "text": [
        " /home/csheth/Documents/Work/Arunachal_Pradesh/FROG_Project/Species_delineate/genus_images/Nanorana\n",
        "/home/csheth/Documents/Work/Arunachal_Pradesh/FROG_Project/2014_data/Images/General_Collection/565"
       ]
      },
      {
       "output_type": "stream",
       "stream": "stdout",
       "text": [
        " /home/csheth/Documents/Work/Arunachal_Pradesh/FROG_Project/Species_delineate/genus_images/Nanorana\n",
        "/home/csheth/Documents/Work/Arunachal_Pradesh/FROG_Project/2014_data/Images/General_Collection/566"
       ]
      },
      {
       "output_type": "stream",
       "stream": "stdout",
       "text": [
        " /home/csheth/Documents/Work/Arunachal_Pradesh/FROG_Project/Species_delineate/genus_images/Nanorana\n",
        "/home/csheth/Documents/Work/Arunachal_Pradesh/FROG_Project/2014_data/Images/General_Collection/567"
       ]
      },
      {
       "output_type": "stream",
       "stream": "stdout",
       "text": [
        " /home/csheth/Documents/Work/Arunachal_Pradesh/FROG_Project/Species_delineate/genus_images/Nanorana\n",
        "/home/csheth/Documents/Work/Arunachal_Pradesh/FROG_Project/2014_data/Images/General_Collection/568"
       ]
      },
      {
       "output_type": "stream",
       "stream": "stdout",
       "text": [
        " /home/csheth/Documents/Work/Arunachal_Pradesh/FROG_Project/Species_delineate/genus_images/Nanorana\n",
        "/home/csheth/Documents/Work/Arunachal_Pradesh/FROG_Project/2014_data/Images/General_Collection/569"
       ]
      },
      {
       "output_type": "stream",
       "stream": "stdout",
       "text": [
        " /home/csheth/Documents/Work/Arunachal_Pradesh/FROG_Project/Species_delineate/genus_images/Nanorana\n",
        "/home/csheth/Documents/Work/Arunachal_Pradesh/FROG_Project/2014_data/Images/General_Collection/570"
       ]
      },
      {
       "output_type": "stream",
       "stream": "stdout",
       "text": [
        " /home/csheth/Documents/Work/Arunachal_Pradesh/FROG_Project/Species_delineate/genus_images/Nanorana\n",
        "/home/csheth/Documents/Work/Arunachal_Pradesh/FROG_Project/2014_data/Images/General_Collection/571"
       ]
      },
      {
       "output_type": "stream",
       "stream": "stdout",
       "text": [
        " /home/csheth/Documents/Work/Arunachal_Pradesh/FROG_Project/Species_delineate/genus_images/Nanorana\n",
        "/home/csheth/Documents/Work/Arunachal_Pradesh/FROG_Project/2014_data/Images/General_Collection/572"
       ]
      },
      {
       "output_type": "stream",
       "stream": "stdout",
       "text": [
        " /home/csheth/Documents/Work/Arunachal_Pradesh/FROG_Project/Species_delineate/genus_images/Nanorana\n",
        "/home/csheth/Documents/Work/Arunachal_Pradesh/FROG_Project/2014_data/Images/General_Collection/573"
       ]
      },
      {
       "output_type": "stream",
       "stream": "stdout",
       "text": [
        " /home/csheth/Documents/Work/Arunachal_Pradesh/FROG_Project/Species_delineate/genus_images/Nanorana\n",
        "/home/csheth/Documents/Work/Arunachal_Pradesh/FROG_Project/2014_data/Images/General_Collection/574"
       ]
      },
      {
       "output_type": "stream",
       "stream": "stdout",
       "text": [
        " /home/csheth/Documents/Work/Arunachal_Pradesh/FROG_Project/Species_delineate/genus_images/Nanorana\n",
        "/home/csheth/Documents/Work/Arunachal_Pradesh/FROG_Project/2014_data/Images/General_Collection/575"
       ]
      },
      {
       "output_type": "stream",
       "stream": "stdout",
       "text": [
        " /home/csheth/Documents/Work/Arunachal_Pradesh/FROG_Project/Species_delineate/genus_images/Nanorana\n",
        "/home/csheth/Documents/Work/Arunachal_Pradesh/FROG_Project/2014_data/Images/General_Collection/576"
       ]
      },
      {
       "output_type": "stream",
       "stream": "stdout",
       "text": [
        " /home/csheth/Documents/Work/Arunachal_Pradesh/FROG_Project/Species_delineate/genus_images/Nanorana\n",
        "/home/csheth/Documents/Work/Arunachal_Pradesh/FROG_Project/2014_data/Images/General_Collection/577"
       ]
      },
      {
       "output_type": "stream",
       "stream": "stdout",
       "text": [
        " /home/csheth/Documents/Work/Arunachal_Pradesh/FROG_Project/Species_delineate/genus_images/Nanorana\n",
        "/home/csheth/Documents/Work/Arunachal_Pradesh/FROG_Project/2014_data/Images/General_Collection/578"
       ]
      },
      {
       "output_type": "stream",
       "stream": "stdout",
       "text": [
        " /home/csheth/Documents/Work/Arunachal_Pradesh/FROG_Project/Species_delineate/genus_images/Nanorana\n",
        "/home/csheth/Documents/Work/Arunachal_Pradesh/FROG_Project/2014_data/Images/General_Collection/579"
       ]
      },
      {
       "output_type": "stream",
       "stream": "stdout",
       "text": [
        " /home/csheth/Documents/Work/Arunachal_Pradesh/FROG_Project/Species_delineate/genus_images/Nanorana\n",
        "/home/csheth/Documents/Work/Arunachal_Pradesh/FROG_Project/2014_data/Images/General_Collection/580"
       ]
      },
      {
       "output_type": "stream",
       "stream": "stdout",
       "text": [
        " /home/csheth/Documents/Work/Arunachal_Pradesh/FROG_Project/Species_delineate/genus_images/Nanorana\n",
        "/home/csheth/Documents/Work/Arunachal_Pradesh/FROG_Project/2014_data/Images/General_Collection/581"
       ]
      },
      {
       "output_type": "stream",
       "stream": "stdout",
       "text": [
        " /home/csheth/Documents/Work/Arunachal_Pradesh/FROG_Project/Species_delineate/genus_images/Nanorana\n",
        "/home/csheth/Documents/Work/Arunachal_Pradesh/FROG_Project/2014_data/Images/General_Collection/582"
       ]
      },
      {
       "output_type": "stream",
       "stream": "stdout",
       "text": [
        " /home/csheth/Documents/Work/Arunachal_Pradesh/FROG_Project/Species_delineate/genus_images/Nanorana\n",
        "/home/csheth/Documents/Work/Arunachal_Pradesh/FROG_Project/2014_data/Images/General_Collection/583"
       ]
      },
      {
       "output_type": "stream",
       "stream": "stdout",
       "text": [
        " /home/csheth/Documents/Work/Arunachal_Pradesh/FROG_Project/Species_delineate/genus_images/Nanorana\n",
        "/home/csheth/Documents/Work/Arunachal_Pradesh/FROG_Project/2014_data/Images/General_Collection/584"
       ]
      },
      {
       "output_type": "stream",
       "stream": "stdout",
       "text": [
        " /home/csheth/Documents/Work/Arunachal_Pradesh/FROG_Project/Species_delineate/genus_images/Nanorana\n",
        "/home/csheth/Documents/Work/Arunachal_Pradesh/FROG_Project/2014_data/Images/General_Collection/585"
       ]
      },
      {
       "output_type": "stream",
       "stream": "stdout",
       "text": [
        " /home/csheth/Documents/Work/Arunachal_Pradesh/FROG_Project/Species_delineate/genus_images/Nanorana\n",
        "/home/csheth/Documents/Work/Arunachal_Pradesh/FROG_Project/2014_data/Images/General_Collection/586"
       ]
      },
      {
       "output_type": "stream",
       "stream": "stdout",
       "text": [
        " /home/csheth/Documents/Work/Arunachal_Pradesh/FROG_Project/Species_delineate/genus_images/Nanorana\n",
        "/home/csheth/Documents/Work/Arunachal_Pradesh/FROG_Project/2014_data/Images/General_Collection/587"
       ]
      },
      {
       "output_type": "stream",
       "stream": "stdout",
       "text": [
        " /home/csheth/Documents/Work/Arunachal_Pradesh/FROG_Project/Species_delineate/genus_images/Nanorana\n",
        "/home/csheth/Documents/Work/Arunachal_Pradesh/FROG_Project/2014_data/Images/General_Collection/588"
       ]
      },
      {
       "output_type": "stream",
       "stream": "stdout",
       "text": [
        " /home/csheth/Documents/Work/Arunachal_Pradesh/FROG_Project/Species_delineate/genus_images/Nanorana\n",
        "/home/csheth/Documents/Work/Arunachal_Pradesh/FROG_Project/2014_data/Images/General_Collection/589"
       ]
      },
      {
       "output_type": "stream",
       "stream": "stdout",
       "text": [
        " /home/csheth/Documents/Work/Arunachal_Pradesh/FROG_Project/Species_delineate/genus_images/Nanorana\n",
        "/home/csheth/Documents/Work/Arunachal_Pradesh/FROG_Project/2014_data/Images/General_Collection/590"
       ]
      },
      {
       "output_type": "stream",
       "stream": "stdout",
       "text": [
        " /home/csheth/Documents/Work/Arunachal_Pradesh/FROG_Project/Species_delineate/genus_images/Nanorana\n",
        "/home/csheth/Documents/Work/Arunachal_Pradesh/FROG_Project/2014_data/Images/General_Collection/591"
       ]
      },
      {
       "output_type": "stream",
       "stream": "stdout",
       "text": [
        " /home/csheth/Documents/Work/Arunachal_Pradesh/FROG_Project/Species_delineate/genus_images/Nanorana\n",
        "/home/csheth/Documents/Work/Arunachal_Pradesh/FROG_Project/2014_data/Images/General_Collection/592"
       ]
      },
      {
       "output_type": "stream",
       "stream": "stdout",
       "text": [
        " /home/csheth/Documents/Work/Arunachal_Pradesh/FROG_Project/Species_delineate/genus_images/Nanorana\n",
        "/home/csheth/Documents/Work/Arunachal_Pradesh/FROG_Project/2014_data/Images/General_Collection/593"
       ]
      },
      {
       "output_type": "stream",
       "stream": "stdout",
       "text": [
        " /home/csheth/Documents/Work/Arunachal_Pradesh/FROG_Project/Species_delineate/genus_images/Nanorana\n",
        "/home/csheth/Documents/Work/Arunachal_Pradesh/FROG_Project/2014_data/Images/General_Collection/594"
       ]
      },
      {
       "output_type": "stream",
       "stream": "stdout",
       "text": [
        " /home/csheth/Documents/Work/Arunachal_Pradesh/FROG_Project/Species_delineate/genus_images/Nanorana\n",
        "/home/csheth/Documents/Work/Arunachal_Pradesh/FROG_Project/2014_data/Images/General_Collection/595"
       ]
      },
      {
       "output_type": "stream",
       "stream": "stdout",
       "text": [
        " /home/csheth/Documents/Work/Arunachal_Pradesh/FROG_Project/Species_delineate/genus_images/Nanorana\n",
        "/home/csheth/Documents/Work/Arunachal_Pradesh/FROG_Project/2014_data/Images/General_Collection/596"
       ]
      },
      {
       "output_type": "stream",
       "stream": "stdout",
       "text": [
        " /home/csheth/Documents/Work/Arunachal_Pradesh/FROG_Project/Species_delineate/genus_images/Nanorana\n",
        "/home/csheth/Documents/Work/Arunachal_Pradesh/FROG_Project/2014_data/Images/General_Collection/597"
       ]
      },
      {
       "output_type": "stream",
       "stream": "stdout",
       "text": [
        " /home/csheth/Documents/Work/Arunachal_Pradesh/FROG_Project/Species_delineate/genus_images/Nanorana\n",
        "/home/csheth/Documents/Work/Arunachal_Pradesh/FROG_Project/2014_data/Images/General_Collection/598"
       ]
      },
      {
       "output_type": "stream",
       "stream": "stdout",
       "text": [
        " /home/csheth/Documents/Work/Arunachal_Pradesh/FROG_Project/Species_delineate/genus_images/Nanorana\n",
        "/home/csheth/Documents/Work/Arunachal_Pradesh/FROG_Project/2014_data/Images/General_Collection/599"
       ]
      },
      {
       "output_type": "stream",
       "stream": "stdout",
       "text": [
        " /home/csheth/Documents/Work/Arunachal_Pradesh/FROG_Project/Species_delineate/genus_images/Nanorana\n",
        "/home/csheth/Documents/Work/Arunachal_Pradesh/FROG_Project/2014_data/Images/General_Collection/600"
       ]
      },
      {
       "output_type": "stream",
       "stream": "stdout",
       "text": [
        " /home/csheth/Documents/Work/Arunachal_Pradesh/FROG_Project/Species_delineate/genus_images/Nanorana\n",
        "/home/csheth/Documents/Work/Arunachal_Pradesh/FROG_Project/2014_data/Images/General_Collection/601"
       ]
      },
      {
       "output_type": "stream",
       "stream": "stdout",
       "text": [
        " /home/csheth/Documents/Work/Arunachal_Pradesh/FROG_Project/Species_delineate/genus_images/Nanorana\n",
        "/home/csheth/Documents/Work/Arunachal_Pradesh/FROG_Project/2014_data/Images/General_Collection/602"
       ]
      },
      {
       "output_type": "stream",
       "stream": "stdout",
       "text": [
        " /home/csheth/Documents/Work/Arunachal_Pradesh/FROG_Project/Species_delineate/genus_images/Nanorana\n",
        "/home/csheth/Documents/Work/Arunachal_Pradesh/FROG_Project/2014_data/Images/General_Collection/603"
       ]
      },
      {
       "output_type": "stream",
       "stream": "stdout",
       "text": [
        " /home/csheth/Documents/Work/Arunachal_Pradesh/FROG_Project/Species_delineate/genus_images/Nanorana\n",
        "/home/csheth/Documents/Work/Arunachal_Pradesh/FROG_Project/2014_data/Images/General_Collection/604"
       ]
      },
      {
       "output_type": "stream",
       "stream": "stdout",
       "text": [
        " /home/csheth/Documents/Work/Arunachal_Pradesh/FROG_Project/Species_delineate/genus_images/Nanorana\n",
        "/home/csheth/Documents/Work/Arunachal_Pradesh/FROG_Project/2014_data/Images/General_Collection/605"
       ]
      },
      {
       "output_type": "stream",
       "stream": "stdout",
       "text": [
        " /home/csheth/Documents/Work/Arunachal_Pradesh/FROG_Project/Species_delineate/genus_images/Nanorana\n",
        "/home/csheth/Documents/Work/Arunachal_Pradesh/FROG_Project/2014_data/Images/General_Collection/606"
       ]
      },
      {
       "output_type": "stream",
       "stream": "stdout",
       "text": [
        " /home/csheth/Documents/Work/Arunachal_Pradesh/FROG_Project/Species_delineate/genus_images/Nanorana\n",
        "/home/csheth/Documents/Work/Arunachal_Pradesh/FROG_Project/2014_data/Images/General_Collection/607"
       ]
      },
      {
       "output_type": "stream",
       "stream": "stdout",
       "text": [
        " /home/csheth/Documents/Work/Arunachal_Pradesh/FROG_Project/Species_delineate/genus_images/Nanorana\n",
        "/home/csheth/Documents/Work/Arunachal_Pradesh/FROG_Project/2014_data/Images/General_Collection/608 /home/csheth/Documents/Work/Arunachal_Pradesh/FROG_Project/Species_delineate/genus_images/Nanorana\n",
        "/home/csheth/Documents/Work/Arunachal_Pradesh/FROG_Project/2014_data/Images/General_Collection/609 /home/csheth/Documents/Work/Arunachal_Pradesh/FROG_Project/Species_delineate/genus_images/Nanorana\n",
        "/home/csheth/Documents/Work/Arunachal_Pradesh/FROG_Project/2014_data/Images/General_Collection/610"
       ]
      },
      {
       "output_type": "stream",
       "stream": "stdout",
       "text": [
        " /home/csheth/Documents/Work/Arunachal_Pradesh/FROG_Project/Species_delineate/genus_images/Nanorana\n",
        "/home/csheth/Documents/Work/Arunachal_Pradesh/FROG_Project/2014_data/Images/General_Collection/611"
       ]
      },
      {
       "output_type": "stream",
       "stream": "stdout",
       "text": [
        " /home/csheth/Documents/Work/Arunachal_Pradesh/FROG_Project/Species_delineate/genus_images/Nanorana\n",
        "/home/csheth/Documents/Work/Arunachal_Pradesh/FROG_Project/2014_data/Images/General_Collection/612"
       ]
      },
      {
       "output_type": "stream",
       "stream": "stdout",
       "text": [
        " /home/csheth/Documents/Work/Arunachal_Pradesh/FROG_Project/Species_delineate/genus_images/Nanorana\n",
        "/home/csheth/Documents/Work/Arunachal_Pradesh/FROG_Project/2014_data/Images/General_Collection/613"
       ]
      },
      {
       "output_type": "stream",
       "stream": "stdout",
       "text": [
        " /home/csheth/Documents/Work/Arunachal_Pradesh/FROG_Project/Species_delineate/genus_images/Nanorana\n",
        "/home/csheth/Documents/Work/Arunachal_Pradesh/FROG_Project/2014_data/Images/General_Collection/617"
       ]
      },
      {
       "output_type": "stream",
       "stream": "stdout",
       "text": [
        " /home/csheth/Documents/Work/Arunachal_Pradesh/FROG_Project/Species_delineate/genus_images/Nanorana\n",
        "/home/csheth/Documents/Work/Arunachal_Pradesh/FROG_Project/2014_data/Images/General_Collection/618"
       ]
      },
      {
       "output_type": "stream",
       "stream": "stdout",
       "text": [
        " /home/csheth/Documents/Work/Arunachal_Pradesh/FROG_Project/Species_delineate/genus_images/Nanorana\n",
        "/home/csheth/Documents/Work/Arunachal_Pradesh/FROG_Project/2014_data/Images/General_Collection/623"
       ]
      },
      {
       "output_type": "stream",
       "stream": "stdout",
       "text": [
        " /home/csheth/Documents/Work/Arunachal_Pradesh/FROG_Project/Species_delineate/genus_images/Nanorana\n",
        "/home/csheth/Documents/Work/Arunachal_Pradesh/FROG_Project/2014_data/Images/General_Collection/626"
       ]
      },
      {
       "output_type": "stream",
       "stream": "stdout",
       "text": [
        " /home/csheth/Documents/Work/Arunachal_Pradesh/FROG_Project/Species_delineate/genus_images/Nanorana\n",
        "/home/csheth/Documents/Work/Arunachal_Pradesh/FROG_Project/2014_data/Images/General_Collection/666"
       ]
      },
      {
       "output_type": "stream",
       "stream": "stdout",
       "text": [
        " /home/csheth/Documents/Work/Arunachal_Pradesh/FROG_Project/Species_delineate/genus_images/Nanorana\n",
        "/home/csheth/Documents/Work/Arunachal_Pradesh/FROG_Project/2014_data/Images/General_Collection/667"
       ]
      },
      {
       "output_type": "stream",
       "stream": "stdout",
       "text": [
        " /home/csheth/Documents/Work/Arunachal_Pradesh/FROG_Project/Species_delineate/genus_images/Nanorana\n",
        "/home/csheth/Documents/Work/Arunachal_Pradesh/FROG_Project/2014_data/Images/General_Collection/668"
       ]
      },
      {
       "output_type": "stream",
       "stream": "stdout",
       "text": [
        " /home/csheth/Documents/Work/Arunachal_Pradesh/FROG_Project/Species_delineate/genus_images/Nanorana\n",
        "/home/csheth/Documents/Work/Arunachal_Pradesh/FROG_Project/2014_data/Images/General_Collection/669"
       ]
      },
      {
       "output_type": "stream",
       "stream": "stdout",
       "text": [
        " /home/csheth/Documents/Work/Arunachal_Pradesh/FROG_Project/Species_delineate/genus_images/Nanorana\n",
        "/home/csheth/Documents/Work/Arunachal_Pradesh/FROG_Project/2014_data/Images/General_Collection/673"
       ]
      },
      {
       "output_type": "stream",
       "stream": "stdout",
       "text": [
        " /home/csheth/Documents/Work/Arunachal_Pradesh/FROG_Project/Species_delineate/genus_images/Nanorana\n",
        "/home/csheth/Documents/Work/Arunachal_Pradesh/FROG_Project/2014_data/Images/General_Collection/674"
       ]
      },
      {
       "output_type": "stream",
       "stream": "stdout",
       "text": [
        " /home/csheth/Documents/Work/Arunachal_Pradesh/FROG_Project/Species_delineate/genus_images/Nanorana\n",
        "/home/csheth/Documents/Work/Arunachal_Pradesh/FROG_Project/2014_data/Images/General_Collection/675"
       ]
      },
      {
       "output_type": "stream",
       "stream": "stdout",
       "text": [
        " /home/csheth/Documents/Work/Arunachal_Pradesh/FROG_Project/Species_delineate/genus_images/Nanorana\n",
        "/home/csheth/Documents/Work/Arunachal_Pradesh/FROG_Project/2014_data/Images/General_Collection/676"
       ]
      },
      {
       "output_type": "stream",
       "stream": "stdout",
       "text": [
        " /home/csheth/Documents/Work/Arunachal_Pradesh/FROG_Project/Species_delineate/genus_images/Nanorana\n",
        "/home/csheth/Documents/Work/Arunachal_Pradesh/FROG_Project/2014_data/Images/General_Collection/677"
       ]
      },
      {
       "output_type": "stream",
       "stream": "stdout",
       "text": [
        " /home/csheth/Documents/Work/Arunachal_Pradesh/FROG_Project/Species_delineate/genus_images/Nanorana\n",
        "/home/csheth/Documents/Work/Arunachal_Pradesh/FROG_Project/2014_data/Images/General_Collection/680"
       ]
      },
      {
       "output_type": "stream",
       "stream": "stdout",
       "text": [
        " /home/csheth/Documents/Work/Arunachal_Pradesh/FROG_Project/Species_delineate/genus_images/Nanorana\n",
        "/home/csheth/Documents/Work/Arunachal_Pradesh/FROG_Project/2014_data/Images/General_Collection/699"
       ]
      },
      {
       "output_type": "stream",
       "stream": "stdout",
       "text": [
        " /home/csheth/Documents/Work/Arunachal_Pradesh/FROG_Project/Species_delineate/genus_images/Nanorana\n",
        "/home/csheth/Documents/Work/Arunachal_Pradesh/FROG_Project/2014_data/Images/General_Collection/700"
       ]
      },
      {
       "output_type": "stream",
       "stream": "stdout",
       "text": [
        " /home/csheth/Documents/Work/Arunachal_Pradesh/FROG_Project/Species_delineate/genus_images/Nanorana\n",
        "/home/csheth/Documents/Work/Arunachal_Pradesh/FROG_Project/2014_data/Images/General_Collection/702"
       ]
      },
      {
       "output_type": "stream",
       "stream": "stdout",
       "text": [
        " /home/csheth/Documents/Work/Arunachal_Pradesh/FROG_Project/Species_delineate/genus_images/Nanorana\n",
        "/home/csheth/Documents/Work/Arunachal_Pradesh/FROG_Project/2014_data/Images/General_Collection/715"
       ]
      },
      {
       "output_type": "stream",
       "stream": "stdout",
       "text": [
        " /home/csheth/Documents/Work/Arunachal_Pradesh/FROG_Project/Species_delineate/genus_images/Nanorana\n",
        "/home/csheth/Documents/Work/Arunachal_Pradesh/FROG_Project/2014_data/Images/General_Collection/716"
       ]
      },
      {
       "output_type": "stream",
       "stream": "stdout",
       "text": [
        " /home/csheth/Documents/Work/Arunachal_Pradesh/FROG_Project/Species_delineate/genus_images/Nanorana\n",
        "/home/csheth/Documents/Work/Arunachal_Pradesh/FROG_Project/2014_data/Images/General_Collection/720"
       ]
      },
      {
       "output_type": "stream",
       "stream": "stdout",
       "text": [
        " /home/csheth/Documents/Work/Arunachal_Pradesh/FROG_Project/Species_delineate/genus_images/Nanorana\n",
        "/home/csheth/Documents/Work/Arunachal_Pradesh/FROG_Project/2014_data/Images/General_Collection/722"
       ]
      },
      {
       "output_type": "stream",
       "stream": "stdout",
       "text": [
        " /home/csheth/Documents/Work/Arunachal_Pradesh/FROG_Project/Species_delineate/genus_images/Nanorana\n",
        "/home/csheth/Documents/Work/Arunachal_Pradesh/FROG_Project/2014_data/Images/General_Collection/762"
       ]
      },
      {
       "output_type": "stream",
       "stream": "stdout",
       "text": [
        " /home/csheth/Documents/Work/Arunachal_Pradesh/FROG_Project/Species_delineate/genus_images/Nanorana\n",
        "/home/csheth/Documents/Work/Arunachal_Pradesh/FROG_Project/2014_data/Images/General_Collection/765"
       ]
      },
      {
       "output_type": "stream",
       "stream": "stdout",
       "text": [
        " /home/csheth/Documents/Work/Arunachal_Pradesh/FROG_Project/Species_delineate/genus_images/Nanorana\n",
        "/home/csheth/Documents/Work/Arunachal_Pradesh/FROG_Project/2014_data/Images/General_Collection/766"
       ]
      },
      {
       "output_type": "stream",
       "stream": "stdout",
       "text": [
        " /home/csheth/Documents/Work/Arunachal_Pradesh/FROG_Project/Species_delineate/genus_images/Nanorana\n",
        "/home/csheth/Documents/Work/Arunachal_Pradesh/FROG_Project/2014_data/Images/General_Collection/774"
       ]
      },
      {
       "output_type": "stream",
       "stream": "stdout",
       "text": [
        " /home/csheth/Documents/Work/Arunachal_Pradesh/FROG_Project/Species_delineate/genus_images/Nanorana\n",
        "/home/csheth/Documents/Work/Arunachal_Pradesh/FROG_Project/2014_data/Images/General_Collection/779"
       ]
      },
      {
       "output_type": "stream",
       "stream": "stdout",
       "text": [
        " /home/csheth/Documents/Work/Arunachal_Pradesh/FROG_Project/Species_delineate/genus_images/Nanorana\n",
        "/home/csheth/Documents/Work/Arunachal_Pradesh/FROG_Project/2014_data/Images/General_Collection/786"
       ]
      },
      {
       "output_type": "stream",
       "stream": "stdout",
       "text": [
        " /home/csheth/Documents/Work/Arunachal_Pradesh/FROG_Project/Species_delineate/genus_images/Nanorana\n",
        "/home/csheth/Documents/Work/Arunachal_Pradesh/FROG_Project/2014_data/Images/General_Collection/787 /home/csheth/Documents/Work/Arunachal_Pradesh/FROG_Project/Species_delineate/genus_images/Nanorana\n",
        "/home/csheth/Documents/Work/Arunachal_Pradesh/FROG_Project/2014_data/Images/General_Collection/790 /home/csheth/Documents/Work/Arunachal_Pradesh/FROG_Project/Species_delineate/genus_images/Nanorana\n",
        "/home/csheth/Documents/Work/Arunachal_Pradesh/FROG_Project/2014_data/Images/General_Collection/793 /home/csheth/Documents/Work/Arunachal_Pradesh/FROG_Project/Species_delineate/genus_images/Nanorana\n",
        "/home/csheth/Documents/Work/Arunachal_Pradesh/FROG_Project/2014_data/Images/General_Collection/795 /home/csheth/Documents/Work/Arunachal_Pradesh/FROG_Project/Species_delineate/genus_images/Nanorana\n",
        "/home/csheth/Documents/Work/Arunachal_Pradesh/FROG_Project/2014_data/Images/General_Collection/796 /home/csheth/Documents/Work/Arunachal_Pradesh/FROG_Project/Species_delineate/genus_images/Nanorana\n",
        "/home/csheth/Documents/Work/Arunachal_Pradesh/FROG_Project/2014_data/Images/General_Collection/803 /home/csheth/Documents/Work/Arunachal_Pradesh/FROG_Project/Species_delineate/genus_images/Nanorana\n",
        "/home/csheth/Documents/Work/Arunachal_Pradesh/FROG_Project/2014_data/Images/General_Collection/805"
       ]
      },
      {
       "output_type": "stream",
       "stream": "stdout",
       "text": [
        " /home/csheth/Documents/Work/Arunachal_Pradesh/FROG_Project/Species_delineate/genus_images/Nanorana\n",
        "/home/csheth/Documents/Work/Arunachal_Pradesh/FROG_Project/2014_data/Images/General_Collection/806"
       ]
      },
      {
       "output_type": "stream",
       "stream": "stdout",
       "text": [
        " /home/csheth/Documents/Work/Arunachal_Pradesh/FROG_Project/Species_delineate/genus_images/Nanorana\n",
        "/home/csheth/Documents/Work/Arunachal_Pradesh/FROG_Project/2014_data/Images/General_Collection/807"
       ]
      },
      {
       "output_type": "stream",
       "stream": "stdout",
       "text": [
        " /home/csheth/Documents/Work/Arunachal_Pradesh/FROG_Project/Species_delineate/genus_images/Nanorana\n",
        "/home/csheth/Documents/Work/Arunachal_Pradesh/FROG_Project/2014_data/Images/General_Collection/808"
       ]
      },
      {
       "output_type": "stream",
       "stream": "stdout",
       "text": [
        " /home/csheth/Documents/Work/Arunachal_Pradesh/FROG_Project/Species_delineate/genus_images/Nanorana\n",
        "/home/csheth/Documents/Work/Arunachal_Pradesh/FROG_Project/2014_data/Images/General_Collection/809"
       ]
      },
      {
       "output_type": "stream",
       "stream": "stdout",
       "text": [
        " /home/csheth/Documents/Work/Arunachal_Pradesh/FROG_Project/Species_delineate/genus_images/Nanorana\n",
        "/home/csheth/Documents/Work/Arunachal_Pradesh/FROG_Project/2014_data/Images/General_Collection/810"
       ]
      },
      {
       "output_type": "stream",
       "stream": "stdout",
       "text": [
        " /home/csheth/Documents/Work/Arunachal_Pradesh/FROG_Project/Species_delineate/genus_images/Nanorana\n",
        "/home/csheth/Documents/Work/Arunachal_Pradesh/FROG_Project/2014_data/Images/General_Collection/811"
       ]
      },
      {
       "output_type": "stream",
       "stream": "stdout",
       "text": [
        " /home/csheth/Documents/Work/Arunachal_Pradesh/FROG_Project/Species_delineate/genus_images/Nanorana\n",
        "/home/csheth/Documents/Work/Arunachal_Pradesh/FROG_Project/2014_data/Images/General_Collection/812"
       ]
      },
      {
       "output_type": "stream",
       "stream": "stdout",
       "text": [
        " /home/csheth/Documents/Work/Arunachal_Pradesh/FROG_Project/Species_delineate/genus_images/Nanorana\n",
        "/home/csheth/Documents/Work/Arunachal_Pradesh/FROG_Project/2014_data/Images/General_Collection/814"
       ]
      },
      {
       "output_type": "stream",
       "stream": "stdout",
       "text": [
        " /home/csheth/Documents/Work/Arunachal_Pradesh/FROG_Project/Species_delineate/genus_images/Nanorana\n",
        "/home/csheth/Documents/Work/Arunachal_Pradesh/FROG_Project/2014_data/Images/General_Collection/815"
       ]
      },
      {
       "output_type": "stream",
       "stream": "stdout",
       "text": [
        " /home/csheth/Documents/Work/Arunachal_Pradesh/FROG_Project/Species_delineate/genus_images/Nanorana\n",
        "/home/csheth/Documents/Work/Arunachal_Pradesh/FROG_Project/2014_data/Images/General_Collection/817"
       ]
      },
      {
       "output_type": "stream",
       "stream": "stdout",
       "text": [
        " /home/csheth/Documents/Work/Arunachal_Pradesh/FROG_Project/Species_delineate/genus_images/Nanorana\n",
        "/home/csheth/Documents/Work/Arunachal_Pradesh/FROG_Project/2014_data/Images/General_Collection/820"
       ]
      },
      {
       "output_type": "stream",
       "stream": "stdout",
       "text": [
        " /home/csheth/Documents/Work/Arunachal_Pradesh/FROG_Project/Species_delineate/genus_images/Nanorana\n",
        "/home/csheth/Documents/Work/Arunachal_Pradesh/FROG_Project/2014_data/Images/General_Collection/821"
       ]
      },
      {
       "output_type": "stream",
       "stream": "stdout",
       "text": [
        " /home/csheth/Documents/Work/Arunachal_Pradesh/FROG_Project/Species_delineate/genus_images/Nanorana\n",
        "/home/csheth/Documents/Work/Arunachal_Pradesh/FROG_Project/2014_data/Images/General_Collection/823"
       ]
      },
      {
       "output_type": "stream",
       "stream": "stdout",
       "text": [
        " /home/csheth/Documents/Work/Arunachal_Pradesh/FROG_Project/Species_delineate/genus_images/Nanorana\n",
        "/home/csheth/Documents/Work/Arunachal_Pradesh/FROG_Project/2014_data/Images/General_Collection/824"
       ]
      },
      {
       "output_type": "stream",
       "stream": "stdout",
       "text": [
        " /home/csheth/Documents/Work/Arunachal_Pradesh/FROG_Project/Species_delineate/genus_images/Nanorana\n",
        "/home/csheth/Documents/Work/Arunachal_Pradesh/FROG_Project/2014_data/Images/General_Collection/825"
       ]
      },
      {
       "output_type": "stream",
       "stream": "stdout",
       "text": [
        " /home/csheth/Documents/Work/Arunachal_Pradesh/FROG_Project/Species_delineate/genus_images/Nanorana\n",
        "/home/csheth/Documents/Work/Arunachal_Pradesh/FROG_Project/2014_data/Images/General_Collection/830"
       ]
      },
      {
       "output_type": "stream",
       "stream": "stdout",
       "text": [
        " /home/csheth/Documents/Work/Arunachal_Pradesh/FROG_Project/Species_delineate/genus_images/Nanorana\n",
        "/home/csheth/Documents/Work/Arunachal_Pradesh/FROG_Project/2014_data/Images/General_Collection/831"
       ]
      },
      {
       "output_type": "stream",
       "stream": "stdout",
       "text": [
        " /home/csheth/Documents/Work/Arunachal_Pradesh/FROG_Project/Species_delineate/genus_images/Nanorana\n",
        "/home/csheth/Documents/Work/Arunachal_Pradesh/FROG_Project/2014_data/Images/General_Collection/842 /home/csheth/Documents/Work/Arunachal_Pradesh/FROG_Project/Species_delineate/genus_images/Nanorana\n",
        "/home/csheth/Documents/Work/Arunachal_Pradesh/FROG_Project/2014_data/Images/General_Collection/843"
       ]
      },
      {
       "output_type": "stream",
       "stream": "stdout",
       "text": [
        " /home/csheth/Documents/Work/Arunachal_Pradesh/FROG_Project/Species_delineate/genus_images/Nanorana\n",
        "/home/csheth/Documents/Work/Arunachal_Pradesh/FROG_Project/2014_data/Images/General_Collection/844"
       ]
      },
      {
       "output_type": "stream",
       "stream": "stdout",
       "text": [
        " /home/csheth/Documents/Work/Arunachal_Pradesh/FROG_Project/Species_delineate/genus_images/Nanorana\n",
        "/home/csheth/Documents/Work/Arunachal_Pradesh/FROG_Project/2014_data/Images/General_Collection/845"
       ]
      },
      {
       "output_type": "stream",
       "stream": "stdout",
       "text": [
        " /home/csheth/Documents/Work/Arunachal_Pradesh/FROG_Project/Species_delineate/genus_images/Nanorana\n",
        "/home/csheth/Documents/Work/Arunachal_Pradesh/FROG_Project/2014_data/Images/General_Collection/846"
       ]
      },
      {
       "output_type": "stream",
       "stream": "stdout",
       "text": [
        " /home/csheth/Documents/Work/Arunachal_Pradesh/FROG_Project/Species_delineate/genus_images/Nanorana\n",
        "/home/csheth/Documents/Work/Arunachal_Pradesh/FROG_Project/2014_data/Images/General_Collection/847"
       ]
      },
      {
       "output_type": "stream",
       "stream": "stdout",
       "text": [
        " /home/csheth/Documents/Work/Arunachal_Pradesh/FROG_Project/Species_delineate/genus_images/Nanorana\n",
        "/home/csheth/Documents/Work/Arunachal_Pradesh/FROG_Project/2014_data/Images/General_Collection/849"
       ]
      },
      {
       "output_type": "stream",
       "stream": "stdout",
       "text": [
        " /home/csheth/Documents/Work/Arunachal_Pradesh/FROG_Project/Species_delineate/genus_images/Nanorana\n",
        "/home/csheth/Documents/Work/Arunachal_Pradesh/FROG_Project/2014_data/Images/General_Collection/850"
       ]
      },
      {
       "output_type": "stream",
       "stream": "stdout",
       "text": [
        " /home/csheth/Documents/Work/Arunachal_Pradesh/FROG_Project/Species_delineate/genus_images/Nanorana\n",
        "/home/csheth/Documents/Work/Arunachal_Pradesh/FROG_Project/2014_data/Images/General_Collection/854"
       ]
      },
      {
       "output_type": "stream",
       "stream": "stdout",
       "text": [
        " /home/csheth/Documents/Work/Arunachal_Pradesh/FROG_Project/Species_delineate/genus_images/Nanorana\n",
        "/home/csheth/Documents/Work/Arunachal_Pradesh/FROG_Project/2014_data/Images/General_Collection/871"
       ]
      },
      {
       "output_type": "stream",
       "stream": "stdout",
       "text": [
        " /home/csheth/Documents/Work/Arunachal_Pradesh/FROG_Project/Species_delineate/genus_images/Nanorana\n",
        "/home/csheth/Documents/Work/Arunachal_Pradesh/FROG_Project/2014_data/Images/General_Collection/874"
       ]
      },
      {
       "output_type": "stream",
       "stream": "stdout",
       "text": [
        " /home/csheth/Documents/Work/Arunachal_Pradesh/FROG_Project/Species_delineate/genus_images/Nanorana\n",
        "/home/csheth/Documents/Work/Arunachal_Pradesh/FROG_Project/2014_data/Images/General_Collection/875"
       ]
      },
      {
       "output_type": "stream",
       "stream": "stdout",
       "text": [
        " /home/csheth/Documents/Work/Arunachal_Pradesh/FROG_Project/Species_delineate/genus_images/Nanorana\n",
        "Processing genus : Polypedates"
       ]
      },
      {
       "output_type": "stream",
       "stream": "stdout",
       "text": [
        "\n",
        "/home/csheth/Documents/Work/Arunachal_Pradesh/FROG_Project/2014_data/Images/General_Collection/624 /home/csheth/Documents/Work/Arunachal_Pradesh/FROG_Project/Species_delineate/genus_images/Polypedates\n",
        "/home/csheth/Documents/Work/Arunachal_Pradesh/FROG_Project/2014_data/Images/General_Collection/625"
       ]
      },
      {
       "output_type": "stream",
       "stream": "stdout",
       "text": [
        " /home/csheth/Documents/Work/Arunachal_Pradesh/FROG_Project/Species_delineate/genus_images/Polypedates\n",
        "/home/csheth/Documents/Work/Arunachal_Pradesh/FROG_Project/2014_data/Images/General_Collection/744"
       ]
      },
      {
       "output_type": "stream",
       "stream": "stdout",
       "text": [
        " /home/csheth/Documents/Work/Arunachal_Pradesh/FROG_Project/Species_delineate/genus_images/Polypedates\n",
        "/home/csheth/Documents/Work/Arunachal_Pradesh/FROG_Project/2014_data/Images/General_Collection/746"
       ]
      },
      {
       "output_type": "stream",
       "stream": "stdout",
       "text": [
        " /home/csheth/Documents/Work/Arunachal_Pradesh/FROG_Project/Species_delineate/genus_images/Polypedates\n",
        "/home/csheth/Documents/Work/Arunachal_Pradesh/FROG_Project/2014_data/Images/General_Collection/749"
       ]
      },
      {
       "output_type": "stream",
       "stream": "stdout",
       "text": [
        " /home/csheth/Documents/Work/Arunachal_Pradesh/FROG_Project/Species_delineate/genus_images/Polypedates\n",
        "Processing genus : Rhacophorus"
       ]
      },
      {
       "output_type": "stream",
       "stream": "stdout",
       "text": [
        "\n",
        "/home/csheth/Documents/Work/Arunachal_Pradesh/FROG_Project/2014_data/Images/General_Collection/529 /home/csheth/Documents/Work/Arunachal_Pradesh/FROG_Project/Species_delineate/genus_images/Rhacophorus\n",
        "/home/csheth/Documents/Work/Arunachal_Pradesh/FROG_Project/2014_data/Images/General_Collection/665"
       ]
      },
      {
       "output_type": "stream",
       "stream": "stdout",
       "text": [
        " /home/csheth/Documents/Work/Arunachal_Pradesh/FROG_Project/Species_delineate/genus_images/Rhacophorus\n",
        "/home/csheth/Documents/Work/Arunachal_Pradesh/FROG_Project/2014_data/Images/General_Collection/707"
       ]
      },
      {
       "output_type": "stream",
       "stream": "stdout",
       "text": [
        " /home/csheth/Documents/Work/Arunachal_Pradesh/FROG_Project/Species_delineate/genus_images/Rhacophorus\n",
        "/home/csheth/Documents/Work/Arunachal_Pradesh/FROG_Project/2014_data/Images/General_Collection/708"
       ]
      },
      {
       "output_type": "stream",
       "stream": "stdout",
       "text": [
        " /home/csheth/Documents/Work/Arunachal_Pradesh/FROG_Project/Species_delineate/genus_images/Rhacophorus\n",
        "/home/csheth/Documents/Work/Arunachal_Pradesh/FROG_Project/2014_data/Images/General_Collection/727"
       ]
      },
      {
       "output_type": "stream",
       "stream": "stdout",
       "text": [
        " /home/csheth/Documents/Work/Arunachal_Pradesh/FROG_Project/Species_delineate/genus_images/Rhacophorus\n",
        "/home/csheth/Documents/Work/Arunachal_Pradesh/FROG_Project/2014_data/Images/General_Collection/864"
       ]
      },
      {
       "output_type": "stream",
       "stream": "stdout",
       "text": [
        " /home/csheth/Documents/Work/Arunachal_Pradesh/FROG_Project/Species_delineate/genus_images/Rhacophorus\n",
        "/home/csheth/Documents/Work/Arunachal_Pradesh/FROG_Project/2014_data/Images/General_Collection/870"
       ]
      },
      {
       "output_type": "stream",
       "stream": "stdout",
       "text": [
        " /home/csheth/Documents/Work/Arunachal_Pradesh/FROG_Project/Species_delineate/genus_images/Rhacophorus\n",
        "/home/csheth/Documents/Work/Arunachal_Pradesh/FROG_Project/2014_data/Images/General_Collection/887"
       ]
      },
      {
       "output_type": "stream",
       "stream": "stdout",
       "text": [
        " /home/csheth/Documents/Work/Arunachal_Pradesh/FROG_Project/Species_delineate/genus_images/Rhacophorus\n",
        "/home/csheth/Documents/Work/Arunachal_Pradesh/FROG_Project/2014_data/Images/General_Collection/906"
       ]
      },
      {
       "output_type": "stream",
       "stream": "stdout",
       "text": [
        " /home/csheth/Documents/Work/Arunachal_Pradesh/FROG_Project/Species_delineate/genus_images/Rhacophorus\n",
        "/home/csheth/Documents/Work/Arunachal_Pradesh/FROG_Project/2014_data/Images/General_Collection/907"
       ]
      },
      {
       "output_type": "stream",
       "stream": "stdout",
       "text": [
        " /home/csheth/Documents/Work/Arunachal_Pradesh/FROG_Project/Species_delineate/genus_images/Rhacophorus\n",
        "/home/csheth/Documents/Work/Arunachal_Pradesh/FROG_Project/2014_data/Images/General_Collection/910"
       ]
      },
      {
       "output_type": "stream",
       "stream": "stdout",
       "text": [
        " /home/csheth/Documents/Work/Arunachal_Pradesh/FROG_Project/Species_delineate/genus_images/Rhacophorus\n",
        "/home/csheth/Documents/Work/Arunachal_Pradesh/FROG_Project/2014_data/Images/General_Collection/911"
       ]
      },
      {
       "output_type": "stream",
       "stream": "stdout",
       "text": [
        " /home/csheth/Documents/Work/Arunachal_Pradesh/FROG_Project/Species_delineate/genus_images/Rhacophorus\n",
        "/home/csheth/Documents/Work/Arunachal_Pradesh/FROG_Project/2014_data/Images/General_Collection/913"
       ]
      },
      {
       "output_type": "stream",
       "stream": "stdout",
       "text": [
        " /home/csheth/Documents/Work/Arunachal_Pradesh/FROG_Project/Species_delineate/genus_images/Rhacophorus\n",
        "/home/csheth/Documents/Work/Arunachal_Pradesh/FROG_Project/2014_data/Images/General_Collection/917"
       ]
      },
      {
       "output_type": "stream",
       "stream": "stdout",
       "text": [
        " /home/csheth/Documents/Work/Arunachal_Pradesh/FROG_Project/Species_delineate/genus_images/Rhacophorus\n",
        "/home/csheth/Documents/Work/Arunachal_Pradesh/FROG_Project/2014_data/Images/General_Collection/920"
       ]
      },
      {
       "output_type": "stream",
       "stream": "stdout",
       "text": [
        " /home/csheth/Documents/Work/Arunachal_Pradesh/FROG_Project/Species_delineate/genus_images/Rhacophorus\n",
        "/home/csheth/Documents/Work/Arunachal_Pradesh/FROG_Project/2014_data/Images/General_Collection/923"
       ]
      },
      {
       "output_type": "stream",
       "stream": "stdout",
       "text": [
        " /home/csheth/Documents/Work/Arunachal_Pradesh/FROG_Project/Species_delineate/genus_images/Rhacophorus\n",
        "/home/csheth/Documents/Work/Arunachal_Pradesh/FROG_Project/2014_data/Images/General_Collection/952"
       ]
      },
      {
       "output_type": "stream",
       "stream": "stdout",
       "text": [
        " /home/csheth/Documents/Work/Arunachal_Pradesh/FROG_Project/Species_delineate/genus_images/Rhacophorus\n",
        "/home/csheth/Documents/Work/Arunachal_Pradesh/FROG_Project/2014_data/Images/General_Collection/953 /home/csheth/Documents/Work/Arunachal_Pradesh/FROG_Project/Species_delineate/genus_images/Rhacophorus\n",
        "Processing genus : Sylvirana\n",
        "/home/csheth/Documents/Work/Arunachal_Pradesh/FROG_Project/2014_data/Images/General_Collection/622 /home/csheth/Documents/Work/Arunachal_Pradesh/FROG_Project/Species_delineate/genus_images/Sylvirana\n",
        "/home/csheth/Documents/Work/Arunachal_Pradesh/FROG_Project/2014_data/Images/General_Collection/748"
       ]
      },
      {
       "output_type": "stream",
       "stream": "stdout",
       "text": [
        " /home/csheth/Documents/Work/Arunachal_Pradesh/FROG_Project/Species_delineate/genus_images/Sylvirana\n",
        "/home/csheth/Documents/Work/Arunachal_Pradesh/FROG_Project/2014_data/Images/General_Collection/788"
       ]
      },
      {
       "output_type": "stream",
       "stream": "stdout",
       "text": [
        " /home/csheth/Documents/Work/Arunachal_Pradesh/FROG_Project/Species_delineate/genus_images/Sylvirana\n",
        "/home/csheth/Documents/Work/Arunachal_Pradesh/FROG_Project/2014_data/Images/General_Collection/791 /home/csheth/Documents/Work/Arunachal_Pradesh/FROG_Project/Species_delineate/genus_images/Sylvirana\n",
        "/home/csheth/Documents/Work/Arunachal_Pradesh/FROG_Project/2014_data/Images/General_Collection/792 /home/csheth/Documents/Work/Arunachal_Pradesh/FROG_Project/Species_delineate/genus_images/Sylvirana\n",
        "/home/csheth/Documents/Work/Arunachal_Pradesh/FROG_Project/2014_data/Images/General_Collection/794 /home/csheth/Documents/Work/Arunachal_Pradesh/FROG_Project/Species_delineate/genus_images/Sylvirana\n",
        "/home/csheth/Documents/Work/Arunachal_Pradesh/FROG_Project/2014_data/Images/General_Collection/797 /home/csheth/Documents/Work/Arunachal_Pradesh/FROG_Project/Species_delineate/genus_images/Sylvirana\n",
        "/home/csheth/Documents/Work/Arunachal_Pradesh/FROG_Project/2014_data/Images/General_Collection/798 /home/csheth/Documents/Work/Arunachal_Pradesh/FROG_Project/Species_delineate/genus_images/Sylvirana\n",
        "/home/csheth/Documents/Work/Arunachal_Pradesh/FROG_Project/2014_data/Images/General_Collection/818 /home/csheth/Documents/Work/Arunachal_Pradesh/FROG_Project/Species_delineate/genus_images/Sylvirana\n",
        "/home/csheth/Documents/Work/Arunachal_Pradesh/FROG_Project/2014_data/Images/General_Collection/819"
       ]
      },
      {
       "output_type": "stream",
       "stream": "stdout",
       "text": [
        " /home/csheth/Documents/Work/Arunachal_Pradesh/FROG_Project/Species_delineate/genus_images/Sylvirana\n",
        "/home/csheth/Documents/Work/Arunachal_Pradesh/FROG_Project/2014_data/Images/General_Collection/899"
       ]
      },
      {
       "output_type": "stream",
       "stream": "stdout",
       "text": [
        " /home/csheth/Documents/Work/Arunachal_Pradesh/FROG_Project/Species_delineate/genus_images/Sylvirana\n",
        "/home/csheth/Documents/Work/Arunachal_Pradesh/FROG_Project/2014_data/Images/General_Collection/922"
       ]
      },
      {
       "output_type": "stream",
       "stream": "stdout",
       "text": [
        " /home/csheth/Documents/Work/Arunachal_Pradesh/FROG_Project/Species_delineate/genus_images/Sylvirana\n",
        "Processing genus : Taylorana"
       ]
      },
      {
       "output_type": "stream",
       "stream": "stdout",
       "text": [
        "\n",
        "/home/csheth/Documents/Work/Arunachal_Pradesh/FROG_Project/2014_data/Images/General_Collection/904 /home/csheth/Documents/Work/Arunachal_Pradesh/FROG_Project/Species_delineate/genus_images/Taylorana\n",
        "/home/csheth/Documents/Work/Arunachal_Pradesh/FROG_Project/2014_data/Images/General_Collection/905"
       ]
      },
      {
       "output_type": "stream",
       "stream": "stdout",
       "text": [
        " /home/csheth/Documents/Work/Arunachal_Pradesh/FROG_Project/Species_delineate/genus_images/Taylorana\n",
        "Processing genus : Theloderma"
       ]
      },
      {
       "output_type": "stream",
       "stream": "stdout",
       "text": [
        "\n",
        "/home/csheth/Documents/Work/Arunachal_Pradesh/FROG_Project/2014_data/Images/General_Collection/950 /home/csheth/Documents/Work/Arunachal_Pradesh/FROG_Project/Species_delineate/genus_images/Theloderma\n",
        "/home/csheth/Documents/Work/Arunachal_Pradesh/FROG_Project/2014_data/Images/General_Collection/951 /home/csheth/Documents/Work/Arunachal_Pradesh/FROG_Project/Species_delineate/genus_images/Theloderma\n"
       ]
      }
     ],
     "prompt_number": 73
    }
   ],
   "metadata": {}
  }
 ]
}